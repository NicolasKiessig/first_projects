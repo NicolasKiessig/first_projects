{
 "cells": [
  {
   "cell_type": "markdown",
   "metadata": {},
   "source": [
    "# Project Objective\n",
    "\n",
    "**Context** \n",
    "\n",
    "- The datasets for this project come from Zyfra, an actual company that works on improving the efficiency and safety of the mining, oil & gas, chemical and engineering industries.\n",
    "\n",
    "**Main Objective** \n",
    "\n",
    "- Our main objective with this project is to provide to Zyfra a machine learning model that can predict the amount of pure gold extracted from gold ore.\n",
    "\n",
    "**Project Structure**\n",
    "\n",
    "The Project will be composed of 3 main sections:\n",
    "1. Data Pre-processing and Preparation\n",
    "2. EDA and Data Quality Check\n",
    "3. Developing and Building the ML model\n",
    "\n",
    "**Data Descriptions**\n",
    "\n",
    "Through studying the gold mining process and treatment of the ores to get to the pure gold, and with the data dictionary provided, the data follows this structure: \n",
    "\n",
    " - [stage].[parameter_type].[parameter_name]\n",
    " - final.output.concentrate_au, for example. These define the column names, so we understand what data we want and how to get it.\n"
   ]
  },
  {
   "cell_type": "markdown",
   "metadata": {},
   "source": [
    "## Data Pre-Processing and Preparation\n",
    "\n",
    "Let's begin by loading the libraries and datasets, and taking a general look at it. Here, our main objectives are:\n",
    " - Check if the withdrawn quantity was calculated correctly.\n",
    " - Analyse the train versus test datasets for consistency.\n",
    " - Pre-Process the data (check for duplicates, invalid data, data types...)"
   ]
  },
  {
   "cell_type": "code",
   "execution_count": 1,
   "metadata": {},
   "outputs": [],
   "source": [
    "#Loading Libraries\n",
    "import pandas as pd\n",
    "import numpy as np\n",
    "import matplotlib.pyplot as plt\n",
    "\n",
    "from sklearn.metrics import mean_squared_error, r2_score\n",
    "from sklearn.model_selection import train_test_split, cross_val_score\n",
    "from sklearn.preprocessing import StandardScaler\n",
    "from sklearn.linear_model import LinearRegression\n",
    "from sklearn.ensemble import RandomForestRegressor\n",
    "from sklearn.model_selection import GridSearchCV\n",
    "import lightgbm as lgb"
   ]
  },
  {
   "cell_type": "code",
   "execution_count": 2,
   "metadata": {},
   "outputs": [],
   "source": [
    "#Loading Datasets\n",
    "gold_rec_train = pd.read_csv('/datasets/gold_recovery_train.csv')\n",
    "gold_rec_test = pd.read_csv('/datasets/gold_recovery_test.csv')\n",
    "gold_rec_full = pd.read_csv('/datasets/gold_recovery_full.csv')"
   ]
  },
  {
   "cell_type": "markdown",
   "metadata": {},
   "source": [
    "### Checking formula calculation\n",
    "\n",
    "Alright, let's check if the withdrawn values were calculated correctly. The variables and formula are as follows:\n",
    "\n",
    " - C  is the proportion of gold in the concentrate after flotation (for finding the initial withdrawal from the rough concentrate) or after purification (for finding the final withdrawal from the concentrate).\n",
    " \n",
    " \n",
    " - F is the proportion of gold fed into the system before flotation\n",
    " \n",
    " \n",
    " - T is the proportion of gold in the tailings (remaining ore) after flotation (for finding the initial withdrawal from the rough concentrate) or after purification (for finding the final withdrawal from the concentrate).\n",
    "\n",
    "\n",
    "And the formula:\n",
    "\n",
    "Withdrawal = (C*(F-T)) / (F*(C-T))\n",
    "\n",
    "\n",
    "To test the formula, we'll use the training dataset, and we'll run it in the following columns:\n",
    " - rougher.output.concentrate_au = C\n",
    " - rougher.input.feed_au = F\n",
    " - rougher.output.tail_au = T\n",
    "\n",
    "And compare the results with `rougher.output.recovery`."
   ]
  },
  {
   "cell_type": "code",
   "execution_count": 3,
   "metadata": {},
   "outputs": [],
   "source": [
    "def formula_checking(data, C1, F1, T1, R1):\n",
    "    \n",
    "    #defining variables\n",
    "    C = data[C1]\n",
    "    F = data[F1]\n",
    "    T = data[T1]\n",
    "    \n",
    "    #creating dataset to check\n",
    "    denominator = F * (C - T)\n",
    "    \n",
    "    #Check for zero denominator\n",
    "    recovery_formula = np.where(denominator == 0, 0, (C * (F - T)) / denominator * 100)\n",
    "    \n",
    "    recovery_data = data[R1]\n",
    "    \n",
    "    formula_check = pd.DataFrame()\n",
    "\n",
    "    formula_check['rec_formula'] = recovery_formula\n",
    "    formula_check['rec_data'] = recovery_data\n",
    "    \n",
    "    #MSE for evaluation\n",
    "    formula_check = formula_check.dropna()\n",
    "    MSE = mean_squared_error(formula_check['rec_data'], formula_check['rec_formula'])\n",
    "    \n",
    "    return formula_check, MSE "
   ]
  },
  {
   "cell_type": "code",
   "execution_count": 4,
   "metadata": {},
   "outputs": [
    {
     "data": {
      "text/html": [
       "<div>\n",
       "<style scoped>\n",
       "    .dataframe tbody tr th:only-of-type {\n",
       "        vertical-align: middle;\n",
       "    }\n",
       "\n",
       "    .dataframe tbody tr th {\n",
       "        vertical-align: top;\n",
       "    }\n",
       "\n",
       "    .dataframe thead th {\n",
       "        text-align: right;\n",
       "    }\n",
       "</style>\n",
       "<table border=\"1\" class=\"dataframe\">\n",
       "  <thead>\n",
       "    <tr style=\"text-align: right;\">\n",
       "      <th></th>\n",
       "      <th>rec_formula</th>\n",
       "      <th>rec_data</th>\n",
       "    </tr>\n",
       "  </thead>\n",
       "  <tbody>\n",
       "    <tr>\n",
       "      <th>0</th>\n",
       "      <td>87.107763</td>\n",
       "      <td>87.107763</td>\n",
       "    </tr>\n",
       "    <tr>\n",
       "      <th>1</th>\n",
       "      <td>86.843261</td>\n",
       "      <td>86.843261</td>\n",
       "    </tr>\n",
       "    <tr>\n",
       "      <th>2</th>\n",
       "      <td>86.842308</td>\n",
       "      <td>86.842308</td>\n",
       "    </tr>\n",
       "    <tr>\n",
       "      <th>3</th>\n",
       "      <td>87.226430</td>\n",
       "      <td>87.226430</td>\n",
       "    </tr>\n",
       "    <tr>\n",
       "      <th>4</th>\n",
       "      <td>86.688794</td>\n",
       "      <td>86.688794</td>\n",
       "    </tr>\n",
       "  </tbody>\n",
       "</table>\n",
       "</div>"
      ],
      "text/plain": [
       "   rec_formula   rec_data\n",
       "0    87.107763  87.107763\n",
       "1    86.843261  86.843261\n",
       "2    86.842308  86.842308\n",
       "3    87.226430  87.226430\n",
       "4    86.688794  86.688794"
      ]
     },
     "metadata": {},
     "output_type": "display_data"
    },
    {
     "name": "stdout",
     "output_type": "stream",
     "text": [
      "MSE: 1.9707770226270568e-28\n"
     ]
    }
   ],
   "source": [
    "comp_data, MSE_data = formula_checking\\\n",
    "(gold_rec_train,'rougher.output.concentrate_au','rougher.input.feed_au','rougher.output.tail_au','rougher.output.recovery')\n",
    "\n",
    "display(comp_data.head())\n",
    "print('MSE:', MSE_data)"
   ]
  },
  {
   "cell_type": "markdown",
   "metadata": {},
   "source": [
    "The formula outputs matches the data we have for recovery up to 10 decimals, which means it is correct, the recovery value has been calculated properly. As we can observe, the MSE is also incredibly small, meaning the deviations are minimal. Let's run the function for the final data now."
   ]
  },
  {
   "cell_type": "code",
   "execution_count": 5,
   "metadata": {},
   "outputs": [
    {
     "data": {
      "text/html": [
       "<div>\n",
       "<style scoped>\n",
       "    .dataframe tbody tr th:only-of-type {\n",
       "        vertical-align: middle;\n",
       "    }\n",
       "\n",
       "    .dataframe tbody tr th {\n",
       "        vertical-align: top;\n",
       "    }\n",
       "\n",
       "    .dataframe thead th {\n",
       "        text-align: right;\n",
       "    }\n",
       "</style>\n",
       "<table border=\"1\" class=\"dataframe\">\n",
       "  <thead>\n",
       "    <tr style=\"text-align: right;\">\n",
       "      <th></th>\n",
       "      <th>rec_formula</th>\n",
       "      <th>rec_data</th>\n",
       "    </tr>\n",
       "  </thead>\n",
       "  <tbody>\n",
       "    <tr>\n",
       "      <th>0</th>\n",
       "      <td>70.541216</td>\n",
       "      <td>70.541216</td>\n",
       "    </tr>\n",
       "    <tr>\n",
       "      <th>1</th>\n",
       "      <td>69.266198</td>\n",
       "      <td>69.266198</td>\n",
       "    </tr>\n",
       "    <tr>\n",
       "      <th>2</th>\n",
       "      <td>68.116445</td>\n",
       "      <td>68.116445</td>\n",
       "    </tr>\n",
       "    <tr>\n",
       "      <th>3</th>\n",
       "      <td>68.347543</td>\n",
       "      <td>68.347543</td>\n",
       "    </tr>\n",
       "    <tr>\n",
       "      <th>4</th>\n",
       "      <td>66.927016</td>\n",
       "      <td>66.927016</td>\n",
       "    </tr>\n",
       "  </tbody>\n",
       "</table>\n",
       "</div>"
      ],
      "text/plain": [
       "   rec_formula   rec_data\n",
       "0    70.541216  70.541216\n",
       "1    69.266198  69.266198\n",
       "2    68.116445  68.116445\n",
       "3    68.347543  68.347543\n",
       "4    66.927016  66.927016"
      ]
     },
     "metadata": {},
     "output_type": "display_data"
    },
    {
     "name": "stdout",
     "output_type": "stream",
     "text": [
      "MSE: 1.4922465706685706e-28\n"
     ]
    }
   ],
   "source": [
    "comp_data_f, MSE_data_f = formula_checking\\\n",
    "(gold_rec_train,'final.output.concentrate_au','rougher.input.feed_au','final.output.tail_au','final.output.recovery')\n",
    "\n",
    "display(comp_data_f.head())\n",
    "print('MSE:', MSE_data_f)"
   ]
  },
  {
   "cell_type": "markdown",
   "metadata": {},
   "source": [
    "The MSE between the calculated values and the observed ones is minimal. Let's keep moving, but let's see if we can increase the data we have for the final output with the formula."
   ]
  },
  {
   "cell_type": "code",
   "execution_count": 6,
   "metadata": {},
   "outputs": [
    {
     "data": {
      "text/plain": [
       "1963"
      ]
     },
     "execution_count": 6,
     "metadata": {},
     "output_type": "execute_result"
    }
   ],
   "source": [
    "#Checking amount of missing values in final output recovery\n",
    "gold_rec_full['final.output.recovery'].isna().sum()"
   ]
  },
  {
   "cell_type": "code",
   "execution_count": 7,
   "metadata": {},
   "outputs": [],
   "source": [
    "#formula to fill values\n",
    "def formula_fill_final(row):\n",
    "    \n",
    "    #defining variables\n",
    "    C = row['final.output.concentrate_au']\n",
    "    F = row['rougher.input.feed_au']\n",
    "    T = row['final.output.tail_au']\n",
    "    \n",
    "    #creating rowset to check\n",
    "    denominator = F * (C - T)\n",
    "    \n",
    "    #Check for zero denominator\n",
    "    if denominator == 0:\n",
    "        recovery_value = np.nan  # Set to NaN when denominator is zero\n",
    "    else:\n",
    "        recovery_value = (C * (F - T)) / denominator * 100\n",
    "    \n",
    "    return recovery_value\n"
   ]
  },
  {
   "cell_type": "code",
   "execution_count": 8,
   "metadata": {},
   "outputs": [],
   "source": [
    "#applying formula\n",
    "gold_rec_full['final.output.recovery'] = gold_rec_full.apply(formula_fill_final, axis = 1)"
   ]
  },
  {
   "cell_type": "code",
   "execution_count": 9,
   "metadata": {},
   "outputs": [
    {
     "data": {
      "text/plain": [
       "1767"
      ]
     },
     "execution_count": 9,
     "metadata": {},
     "output_type": "execute_result"
    }
   ],
   "source": [
    "#checking if it worked\n",
    "gold_rec_full['final.output.recovery'].isna().sum()"
   ]
  },
  {
   "cell_type": "markdown",
   "metadata": {},
   "source": [
    "We were able to recover a few data points with this. Let's keep moving."
   ]
  },
  {
   "cell_type": "markdown",
   "metadata": {},
   "source": [
    "### Train versus Test datasets\n",
    "\n",
    "Our aim here is to find if there are missing data points in the test or train datasets and make necessary corretions."
   ]
  },
  {
   "cell_type": "code",
   "execution_count": 10,
   "metadata": {},
   "outputs": [
    {
     "data": {
      "text/html": [
       "<div>\n",
       "<style scoped>\n",
       "    .dataframe tbody tr th:only-of-type {\n",
       "        vertical-align: middle;\n",
       "    }\n",
       "\n",
       "    .dataframe tbody tr th {\n",
       "        vertical-align: top;\n",
       "    }\n",
       "\n",
       "    .dataframe thead th {\n",
       "        text-align: right;\n",
       "    }\n",
       "</style>\n",
       "<table border=\"1\" class=\"dataframe\">\n",
       "  <thead>\n",
       "    <tr style=\"text-align: right;\">\n",
       "      <th></th>\n",
       "      <th>date</th>\n",
       "      <th>final.output.concentrate_ag</th>\n",
       "      <th>final.output.concentrate_pb</th>\n",
       "      <th>final.output.concentrate_sol</th>\n",
       "      <th>final.output.concentrate_au</th>\n",
       "      <th>final.output.recovery</th>\n",
       "      <th>final.output.tail_ag</th>\n",
       "      <th>final.output.tail_pb</th>\n",
       "      <th>final.output.tail_sol</th>\n",
       "      <th>final.output.tail_au</th>\n",
       "      <th>...</th>\n",
       "      <th>secondary_cleaner.state.floatbank4_a_air</th>\n",
       "      <th>secondary_cleaner.state.floatbank4_a_level</th>\n",
       "      <th>secondary_cleaner.state.floatbank4_b_air</th>\n",
       "      <th>secondary_cleaner.state.floatbank4_b_level</th>\n",
       "      <th>secondary_cleaner.state.floatbank5_a_air</th>\n",
       "      <th>secondary_cleaner.state.floatbank5_a_level</th>\n",
       "      <th>secondary_cleaner.state.floatbank5_b_air</th>\n",
       "      <th>secondary_cleaner.state.floatbank5_b_level</th>\n",
       "      <th>secondary_cleaner.state.floatbank6_a_air</th>\n",
       "      <th>secondary_cleaner.state.floatbank6_a_level</th>\n",
       "    </tr>\n",
       "  </thead>\n",
       "  <tbody>\n",
       "    <tr>\n",
       "      <th>0</th>\n",
       "      <td>2016-01-15 00:00:00</td>\n",
       "      <td>6.055403</td>\n",
       "      <td>9.889648</td>\n",
       "      <td>5.507324</td>\n",
       "      <td>42.192020</td>\n",
       "      <td>70.541216</td>\n",
       "      <td>10.411962</td>\n",
       "      <td>0.895447</td>\n",
       "      <td>16.904297</td>\n",
       "      <td>2.143149</td>\n",
       "      <td>...</td>\n",
       "      <td>14.016835</td>\n",
       "      <td>-502.488007</td>\n",
       "      <td>12.099931</td>\n",
       "      <td>-504.715942</td>\n",
       "      <td>9.925633</td>\n",
       "      <td>-498.310211</td>\n",
       "      <td>8.079666</td>\n",
       "      <td>-500.470978</td>\n",
       "      <td>14.151341</td>\n",
       "      <td>-605.841980</td>\n",
       "    </tr>\n",
       "    <tr>\n",
       "      <th>1</th>\n",
       "      <td>2016-01-15 01:00:00</td>\n",
       "      <td>6.029369</td>\n",
       "      <td>9.968944</td>\n",
       "      <td>5.257781</td>\n",
       "      <td>42.701629</td>\n",
       "      <td>69.266198</td>\n",
       "      <td>10.462676</td>\n",
       "      <td>0.927452</td>\n",
       "      <td>16.634514</td>\n",
       "      <td>2.224930</td>\n",
       "      <td>...</td>\n",
       "      <td>13.992281</td>\n",
       "      <td>-505.503262</td>\n",
       "      <td>11.950531</td>\n",
       "      <td>-501.331529</td>\n",
       "      <td>10.039245</td>\n",
       "      <td>-500.169983</td>\n",
       "      <td>7.984757</td>\n",
       "      <td>-500.582168</td>\n",
       "      <td>13.998353</td>\n",
       "      <td>-599.787184</td>\n",
       "    </tr>\n",
       "  </tbody>\n",
       "</table>\n",
       "<p>2 rows × 87 columns</p>\n",
       "</div>"
      ],
      "text/plain": [
       "                  date  final.output.concentrate_ag  \\\n",
       "0  2016-01-15 00:00:00                     6.055403   \n",
       "1  2016-01-15 01:00:00                     6.029369   \n",
       "\n",
       "   final.output.concentrate_pb  final.output.concentrate_sol  \\\n",
       "0                     9.889648                      5.507324   \n",
       "1                     9.968944                      5.257781   \n",
       "\n",
       "   final.output.concentrate_au  final.output.recovery  final.output.tail_ag  \\\n",
       "0                    42.192020              70.541216             10.411962   \n",
       "1                    42.701629              69.266198             10.462676   \n",
       "\n",
       "   final.output.tail_pb  final.output.tail_sol  final.output.tail_au  ...  \\\n",
       "0              0.895447              16.904297              2.143149  ...   \n",
       "1              0.927452              16.634514              2.224930  ...   \n",
       "\n",
       "   secondary_cleaner.state.floatbank4_a_air  \\\n",
       "0                                 14.016835   \n",
       "1                                 13.992281   \n",
       "\n",
       "   secondary_cleaner.state.floatbank4_a_level  \\\n",
       "0                                 -502.488007   \n",
       "1                                 -505.503262   \n",
       "\n",
       "   secondary_cleaner.state.floatbank4_b_air  \\\n",
       "0                                 12.099931   \n",
       "1                                 11.950531   \n",
       "\n",
       "   secondary_cleaner.state.floatbank4_b_level  \\\n",
       "0                                 -504.715942   \n",
       "1                                 -501.331529   \n",
       "\n",
       "   secondary_cleaner.state.floatbank5_a_air  \\\n",
       "0                                  9.925633   \n",
       "1                                 10.039245   \n",
       "\n",
       "   secondary_cleaner.state.floatbank5_a_level  \\\n",
       "0                                 -498.310211   \n",
       "1                                 -500.169983   \n",
       "\n",
       "   secondary_cleaner.state.floatbank5_b_air  \\\n",
       "0                                  8.079666   \n",
       "1                                  7.984757   \n",
       "\n",
       "   secondary_cleaner.state.floatbank5_b_level  \\\n",
       "0                                 -500.470978   \n",
       "1                                 -500.582168   \n",
       "\n",
       "   secondary_cleaner.state.floatbank6_a_air  \\\n",
       "0                                 14.151341   \n",
       "1                                 13.998353   \n",
       "\n",
       "   secondary_cleaner.state.floatbank6_a_level  \n",
       "0                                 -605.841980  \n",
       "1                                 -599.787184  \n",
       "\n",
       "[2 rows x 87 columns]"
      ]
     },
     "metadata": {},
     "output_type": "display_data"
    },
    {
     "name": "stdout",
     "output_type": "stream",
     "text": [
      "<class 'pandas.core.frame.DataFrame'>\n",
      "RangeIndex: 16860 entries, 0 to 16859\n",
      "Data columns (total 87 columns):\n",
      " #   Column                                              Non-Null Count  Dtype  \n",
      "---  ------                                              --------------  -----  \n",
      " 0   date                                                16860 non-null  object \n",
      " 1   final.output.concentrate_ag                         16788 non-null  float64\n",
      " 2   final.output.concentrate_pb                         16788 non-null  float64\n",
      " 3   final.output.concentrate_sol                        16490 non-null  float64\n",
      " 4   final.output.concentrate_au                         16789 non-null  float64\n",
      " 5   final.output.recovery                               15339 non-null  float64\n",
      " 6   final.output.tail_ag                                16794 non-null  float64\n",
      " 7   final.output.tail_pb                                16677 non-null  float64\n",
      " 8   final.output.tail_sol                               16715 non-null  float64\n",
      " 9   final.output.tail_au                                16794 non-null  float64\n",
      " 10  primary_cleaner.input.sulfate                       15553 non-null  float64\n",
      " 11  primary_cleaner.input.depressant                    15598 non-null  float64\n",
      " 12  primary_cleaner.input.feed_size                     16860 non-null  float64\n",
      " 13  primary_cleaner.input.xanthate                      15875 non-null  float64\n",
      " 14  primary_cleaner.output.concentrate_ag               16778 non-null  float64\n",
      " 15  primary_cleaner.output.concentrate_pb               16502 non-null  float64\n",
      " 16  primary_cleaner.output.concentrate_sol              16224 non-null  float64\n",
      " 17  primary_cleaner.output.concentrate_au               16778 non-null  float64\n",
      " 18  primary_cleaner.output.tail_ag                      16777 non-null  float64\n",
      " 19  primary_cleaner.output.tail_pb                      16761 non-null  float64\n",
      " 20  primary_cleaner.output.tail_sol                     16579 non-null  float64\n",
      " 21  primary_cleaner.output.tail_au                      16777 non-null  float64\n",
      " 22  primary_cleaner.state.floatbank8_a_air              16820 non-null  float64\n",
      " 23  primary_cleaner.state.floatbank8_a_level            16827 non-null  float64\n",
      " 24  primary_cleaner.state.floatbank8_b_air              16820 non-null  float64\n",
      " 25  primary_cleaner.state.floatbank8_b_level            16833 non-null  float64\n",
      " 26  primary_cleaner.state.floatbank8_c_air              16822 non-null  float64\n",
      " 27  primary_cleaner.state.floatbank8_c_level            16833 non-null  float64\n",
      " 28  primary_cleaner.state.floatbank8_d_air              16821 non-null  float64\n",
      " 29  primary_cleaner.state.floatbank8_d_level            16833 non-null  float64\n",
      " 30  rougher.calculation.sulfate_to_au_concentrate       16833 non-null  float64\n",
      " 31  rougher.calculation.floatbank10_sulfate_to_au_feed  16833 non-null  float64\n",
      " 32  rougher.calculation.floatbank11_sulfate_to_au_feed  16833 non-null  float64\n",
      " 33  rougher.calculation.au_pb_ratio                     15618 non-null  float64\n",
      " 34  rougher.input.feed_ag                               16778 non-null  float64\n",
      " 35  rougher.input.feed_pb                               16632 non-null  float64\n",
      " 36  rougher.input.feed_rate                             16347 non-null  float64\n",
      " 37  rougher.input.feed_size                             16443 non-null  float64\n",
      " 38  rougher.input.feed_sol                              16568 non-null  float64\n",
      " 39  rougher.input.feed_au                               16777 non-null  float64\n",
      " 40  rougher.input.floatbank10_sulfate                   15816 non-null  float64\n",
      " 41  rougher.input.floatbank10_xanthate                  16514 non-null  float64\n",
      " 42  rougher.input.floatbank11_sulfate                   16237 non-null  float64\n",
      " 43  rougher.input.floatbank11_xanthate                  14956 non-null  float64\n",
      " 44  rougher.output.concentrate_ag                       16778 non-null  float64\n",
      " 45  rougher.output.concentrate_pb                       16778 non-null  float64\n",
      " 46  rougher.output.concentrate_sol                      16698 non-null  float64\n",
      " 47  rougher.output.concentrate_au                       16778 non-null  float64\n",
      " 48  rougher.output.recovery                             14287 non-null  float64\n",
      " 49  rougher.output.tail_ag                              14610 non-null  float64\n",
      " 50  rougher.output.tail_pb                              16778 non-null  float64\n",
      " 51  rougher.output.tail_sol                             14611 non-null  float64\n",
      " 52  rougher.output.tail_au                              14611 non-null  float64\n",
      " 53  rougher.state.floatbank10_a_air                     16807 non-null  float64\n",
      " 54  rougher.state.floatbank10_a_level                   16807 non-null  float64\n",
      " 55  rougher.state.floatbank10_b_air                     16807 non-null  float64\n",
      " 56  rougher.state.floatbank10_b_level                   16807 non-null  float64\n",
      " 57  rougher.state.floatbank10_c_air                     16807 non-null  float64\n",
      " 58  rougher.state.floatbank10_c_level                   16814 non-null  float64\n",
      " 59  rougher.state.floatbank10_d_air                     16802 non-null  float64\n",
      " 60  rougher.state.floatbank10_d_level                   16809 non-null  float64\n",
      " 61  rougher.state.floatbank10_e_air                     16257 non-null  float64\n",
      " 62  rougher.state.floatbank10_e_level                   16809 non-null  float64\n",
      " 63  rougher.state.floatbank10_f_air                     16802 non-null  float64\n",
      " 64  rougher.state.floatbank10_f_level                   16802 non-null  float64\n",
      " 65  secondary_cleaner.output.tail_ag                    16776 non-null  float64\n",
      " 66  secondary_cleaner.output.tail_pb                    16764 non-null  float64\n",
      " 67  secondary_cleaner.output.tail_sol                   14874 non-null  float64\n",
      " 68  secondary_cleaner.output.tail_au                    16778 non-null  float64\n",
      " 69  secondary_cleaner.state.floatbank2_a_air            16497 non-null  float64\n",
      " 70  secondary_cleaner.state.floatbank2_a_level          16751 non-null  float64\n",
      " 71  secondary_cleaner.state.floatbank2_b_air            16705 non-null  float64\n",
      " 72  secondary_cleaner.state.floatbank2_b_level          16748 non-null  float64\n",
      " 73  secondary_cleaner.state.floatbank3_a_air            16763 non-null  float64\n",
      " 74  secondary_cleaner.state.floatbank3_a_level          16747 non-null  float64\n",
      " 75  secondary_cleaner.state.floatbank3_b_air            16752 non-null  float64\n",
      " 76  secondary_cleaner.state.floatbank3_b_level          16750 non-null  float64\n",
      " 77  secondary_cleaner.state.floatbank4_a_air            16731 non-null  float64\n",
      " 78  secondary_cleaner.state.floatbank4_a_level          16747 non-null  float64\n",
      " 79  secondary_cleaner.state.floatbank4_b_air            16768 non-null  float64\n",
      " 80  secondary_cleaner.state.floatbank4_b_level          16767 non-null  float64\n",
      " 81  secondary_cleaner.state.floatbank5_a_air            16775 non-null  float64\n",
      " 82  secondary_cleaner.state.floatbank5_a_level          16775 non-null  float64\n",
      " 83  secondary_cleaner.state.floatbank5_b_air            16775 non-null  float64\n",
      " 84  secondary_cleaner.state.floatbank5_b_level          16776 non-null  float64\n",
      " 85  secondary_cleaner.state.floatbank6_a_air            16757 non-null  float64\n",
      " 86  secondary_cleaner.state.floatbank6_a_level          16775 non-null  float64\n",
      "dtypes: float64(86), object(1)\n",
      "memory usage: 11.2+ MB\n",
      "None\n",
      "\n"
     ]
    },
    {
     "data": {
      "text/html": [
       "<div>\n",
       "<style scoped>\n",
       "    .dataframe tbody tr th:only-of-type {\n",
       "        vertical-align: middle;\n",
       "    }\n",
       "\n",
       "    .dataframe tbody tr th {\n",
       "        vertical-align: top;\n",
       "    }\n",
       "\n",
       "    .dataframe thead th {\n",
       "        text-align: right;\n",
       "    }\n",
       "</style>\n",
       "<table border=\"1\" class=\"dataframe\">\n",
       "  <thead>\n",
       "    <tr style=\"text-align: right;\">\n",
       "      <th></th>\n",
       "      <th>date</th>\n",
       "      <th>primary_cleaner.input.sulfate</th>\n",
       "      <th>primary_cleaner.input.depressant</th>\n",
       "      <th>primary_cleaner.input.feed_size</th>\n",
       "      <th>primary_cleaner.input.xanthate</th>\n",
       "      <th>primary_cleaner.state.floatbank8_a_air</th>\n",
       "      <th>primary_cleaner.state.floatbank8_a_level</th>\n",
       "      <th>primary_cleaner.state.floatbank8_b_air</th>\n",
       "      <th>primary_cleaner.state.floatbank8_b_level</th>\n",
       "      <th>primary_cleaner.state.floatbank8_c_air</th>\n",
       "      <th>...</th>\n",
       "      <th>secondary_cleaner.state.floatbank4_a_air</th>\n",
       "      <th>secondary_cleaner.state.floatbank4_a_level</th>\n",
       "      <th>secondary_cleaner.state.floatbank4_b_air</th>\n",
       "      <th>secondary_cleaner.state.floatbank4_b_level</th>\n",
       "      <th>secondary_cleaner.state.floatbank5_a_air</th>\n",
       "      <th>secondary_cleaner.state.floatbank5_a_level</th>\n",
       "      <th>secondary_cleaner.state.floatbank5_b_air</th>\n",
       "      <th>secondary_cleaner.state.floatbank5_b_level</th>\n",
       "      <th>secondary_cleaner.state.floatbank6_a_air</th>\n",
       "      <th>secondary_cleaner.state.floatbank6_a_level</th>\n",
       "    </tr>\n",
       "  </thead>\n",
       "  <tbody>\n",
       "    <tr>\n",
       "      <th>0</th>\n",
       "      <td>2016-09-01 00:59:59</td>\n",
       "      <td>210.800909</td>\n",
       "      <td>14.993118</td>\n",
       "      <td>8.08</td>\n",
       "      <td>1.005021</td>\n",
       "      <td>1398.981301</td>\n",
       "      <td>-500.225577</td>\n",
       "      <td>1399.144926</td>\n",
       "      <td>-499.919735</td>\n",
       "      <td>1400.102998</td>\n",
       "      <td>...</td>\n",
       "      <td>12.023554</td>\n",
       "      <td>-497.795834</td>\n",
       "      <td>8.016656</td>\n",
       "      <td>-501.289139</td>\n",
       "      <td>7.946562</td>\n",
       "      <td>-432.317850</td>\n",
       "      <td>4.872511</td>\n",
       "      <td>-500.037437</td>\n",
       "      <td>26.705889</td>\n",
       "      <td>-499.709414</td>\n",
       "    </tr>\n",
       "    <tr>\n",
       "      <th>1</th>\n",
       "      <td>2016-09-01 01:59:59</td>\n",
       "      <td>215.392455</td>\n",
       "      <td>14.987471</td>\n",
       "      <td>8.08</td>\n",
       "      <td>0.990469</td>\n",
       "      <td>1398.777912</td>\n",
       "      <td>-500.057435</td>\n",
       "      <td>1398.055362</td>\n",
       "      <td>-499.778182</td>\n",
       "      <td>1396.151033</td>\n",
       "      <td>...</td>\n",
       "      <td>12.058140</td>\n",
       "      <td>-498.695773</td>\n",
       "      <td>8.130979</td>\n",
       "      <td>-499.634209</td>\n",
       "      <td>7.958270</td>\n",
       "      <td>-525.839648</td>\n",
       "      <td>4.878850</td>\n",
       "      <td>-500.162375</td>\n",
       "      <td>25.019940</td>\n",
       "      <td>-499.819438</td>\n",
       "    </tr>\n",
       "  </tbody>\n",
       "</table>\n",
       "<p>2 rows × 53 columns</p>\n",
       "</div>"
      ],
      "text/plain": [
       "                  date  primary_cleaner.input.sulfate  \\\n",
       "0  2016-09-01 00:59:59                     210.800909   \n",
       "1  2016-09-01 01:59:59                     215.392455   \n",
       "\n",
       "   primary_cleaner.input.depressant  primary_cleaner.input.feed_size  \\\n",
       "0                         14.993118                             8.08   \n",
       "1                         14.987471                             8.08   \n",
       "\n",
       "   primary_cleaner.input.xanthate  primary_cleaner.state.floatbank8_a_air  \\\n",
       "0                        1.005021                             1398.981301   \n",
       "1                        0.990469                             1398.777912   \n",
       "\n",
       "   primary_cleaner.state.floatbank8_a_level  \\\n",
       "0                               -500.225577   \n",
       "1                               -500.057435   \n",
       "\n",
       "   primary_cleaner.state.floatbank8_b_air  \\\n",
       "0                             1399.144926   \n",
       "1                             1398.055362   \n",
       "\n",
       "   primary_cleaner.state.floatbank8_b_level  \\\n",
       "0                               -499.919735   \n",
       "1                               -499.778182   \n",
       "\n",
       "   primary_cleaner.state.floatbank8_c_air  ...  \\\n",
       "0                             1400.102998  ...   \n",
       "1                             1396.151033  ...   \n",
       "\n",
       "   secondary_cleaner.state.floatbank4_a_air  \\\n",
       "0                                 12.023554   \n",
       "1                                 12.058140   \n",
       "\n",
       "   secondary_cleaner.state.floatbank4_a_level  \\\n",
       "0                                 -497.795834   \n",
       "1                                 -498.695773   \n",
       "\n",
       "   secondary_cleaner.state.floatbank4_b_air  \\\n",
       "0                                  8.016656   \n",
       "1                                  8.130979   \n",
       "\n",
       "   secondary_cleaner.state.floatbank4_b_level  \\\n",
       "0                                 -501.289139   \n",
       "1                                 -499.634209   \n",
       "\n",
       "   secondary_cleaner.state.floatbank5_a_air  \\\n",
       "0                                  7.946562   \n",
       "1                                  7.958270   \n",
       "\n",
       "   secondary_cleaner.state.floatbank5_a_level  \\\n",
       "0                                 -432.317850   \n",
       "1                                 -525.839648   \n",
       "\n",
       "   secondary_cleaner.state.floatbank5_b_air  \\\n",
       "0                                  4.872511   \n",
       "1                                  4.878850   \n",
       "\n",
       "   secondary_cleaner.state.floatbank5_b_level  \\\n",
       "0                                 -500.037437   \n",
       "1                                 -500.162375   \n",
       "\n",
       "   secondary_cleaner.state.floatbank6_a_air  \\\n",
       "0                                 26.705889   \n",
       "1                                 25.019940   \n",
       "\n",
       "   secondary_cleaner.state.floatbank6_a_level  \n",
       "0                                 -499.709414  \n",
       "1                                 -499.819438  \n",
       "\n",
       "[2 rows x 53 columns]"
      ]
     },
     "metadata": {},
     "output_type": "display_data"
    },
    {
     "name": "stdout",
     "output_type": "stream",
     "text": [
      "<class 'pandas.core.frame.DataFrame'>\n",
      "RangeIndex: 5856 entries, 0 to 5855\n",
      "Data columns (total 53 columns):\n",
      " #   Column                                      Non-Null Count  Dtype  \n",
      "---  ------                                      --------------  -----  \n",
      " 0   date                                        5856 non-null   object \n",
      " 1   primary_cleaner.input.sulfate               5554 non-null   float64\n",
      " 2   primary_cleaner.input.depressant            5572 non-null   float64\n",
      " 3   primary_cleaner.input.feed_size             5856 non-null   float64\n",
      " 4   primary_cleaner.input.xanthate              5690 non-null   float64\n",
      " 5   primary_cleaner.state.floatbank8_a_air      5840 non-null   float64\n",
      " 6   primary_cleaner.state.floatbank8_a_level    5840 non-null   float64\n",
      " 7   primary_cleaner.state.floatbank8_b_air      5840 non-null   float64\n",
      " 8   primary_cleaner.state.floatbank8_b_level    5840 non-null   float64\n",
      " 9   primary_cleaner.state.floatbank8_c_air      5840 non-null   float64\n",
      " 10  primary_cleaner.state.floatbank8_c_level    5840 non-null   float64\n",
      " 11  primary_cleaner.state.floatbank8_d_air      5840 non-null   float64\n",
      " 12  primary_cleaner.state.floatbank8_d_level    5840 non-null   float64\n",
      " 13  rougher.input.feed_ag                       5840 non-null   float64\n",
      " 14  rougher.input.feed_pb                       5840 non-null   float64\n",
      " 15  rougher.input.feed_rate                     5816 non-null   float64\n",
      " 16  rougher.input.feed_size                     5834 non-null   float64\n",
      " 17  rougher.input.feed_sol                      5789 non-null   float64\n",
      " 18  rougher.input.feed_au                       5840 non-null   float64\n",
      " 19  rougher.input.floatbank10_sulfate           5599 non-null   float64\n",
      " 20  rougher.input.floatbank10_xanthate          5733 non-null   float64\n",
      " 21  rougher.input.floatbank11_sulfate           5801 non-null   float64\n",
      " 22  rougher.input.floatbank11_xanthate          5503 non-null   float64\n",
      " 23  rougher.state.floatbank10_a_air             5839 non-null   float64\n",
      " 24  rougher.state.floatbank10_a_level           5840 non-null   float64\n",
      " 25  rougher.state.floatbank10_b_air             5839 non-null   float64\n",
      " 26  rougher.state.floatbank10_b_level           5840 non-null   float64\n",
      " 27  rougher.state.floatbank10_c_air             5839 non-null   float64\n",
      " 28  rougher.state.floatbank10_c_level           5840 non-null   float64\n",
      " 29  rougher.state.floatbank10_d_air             5839 non-null   float64\n",
      " 30  rougher.state.floatbank10_d_level           5840 non-null   float64\n",
      " 31  rougher.state.floatbank10_e_air             5839 non-null   float64\n",
      " 32  rougher.state.floatbank10_e_level           5840 non-null   float64\n",
      " 33  rougher.state.floatbank10_f_air             5839 non-null   float64\n",
      " 34  rougher.state.floatbank10_f_level           5840 non-null   float64\n",
      " 35  secondary_cleaner.state.floatbank2_a_air    5836 non-null   float64\n",
      " 36  secondary_cleaner.state.floatbank2_a_level  5840 non-null   float64\n",
      " 37  secondary_cleaner.state.floatbank2_b_air    5833 non-null   float64\n",
      " 38  secondary_cleaner.state.floatbank2_b_level  5840 non-null   float64\n",
      " 39  secondary_cleaner.state.floatbank3_a_air    5822 non-null   float64\n",
      " 40  secondary_cleaner.state.floatbank3_a_level  5840 non-null   float64\n",
      " 41  secondary_cleaner.state.floatbank3_b_air    5840 non-null   float64\n",
      " 42  secondary_cleaner.state.floatbank3_b_level  5840 non-null   float64\n",
      " 43  secondary_cleaner.state.floatbank4_a_air    5840 non-null   float64\n",
      " 44  secondary_cleaner.state.floatbank4_a_level  5840 non-null   float64\n",
      " 45  secondary_cleaner.state.floatbank4_b_air    5840 non-null   float64\n",
      " 46  secondary_cleaner.state.floatbank4_b_level  5840 non-null   float64\n",
      " 47  secondary_cleaner.state.floatbank5_a_air    5840 non-null   float64\n",
      " 48  secondary_cleaner.state.floatbank5_a_level  5840 non-null   float64\n",
      " 49  secondary_cleaner.state.floatbank5_b_air    5840 non-null   float64\n",
      " 50  secondary_cleaner.state.floatbank5_b_level  5840 non-null   float64\n",
      " 51  secondary_cleaner.state.floatbank6_a_air    5840 non-null   float64\n",
      " 52  secondary_cleaner.state.floatbank6_a_level  5840 non-null   float64\n",
      "dtypes: float64(52), object(1)\n",
      "memory usage: 2.4+ MB\n",
      "None\n",
      "\n"
     ]
    },
    {
     "data": {
      "text/html": [
       "<div>\n",
       "<style scoped>\n",
       "    .dataframe tbody tr th:only-of-type {\n",
       "        vertical-align: middle;\n",
       "    }\n",
       "\n",
       "    .dataframe tbody tr th {\n",
       "        vertical-align: top;\n",
       "    }\n",
       "\n",
       "    .dataframe thead th {\n",
       "        text-align: right;\n",
       "    }\n",
       "</style>\n",
       "<table border=\"1\" class=\"dataframe\">\n",
       "  <thead>\n",
       "    <tr style=\"text-align: right;\">\n",
       "      <th></th>\n",
       "      <th>date</th>\n",
       "      <th>final.output.concentrate_ag</th>\n",
       "      <th>final.output.concentrate_pb</th>\n",
       "      <th>final.output.concentrate_sol</th>\n",
       "      <th>final.output.concentrate_au</th>\n",
       "      <th>final.output.recovery</th>\n",
       "      <th>final.output.tail_ag</th>\n",
       "      <th>final.output.tail_pb</th>\n",
       "      <th>final.output.tail_sol</th>\n",
       "      <th>final.output.tail_au</th>\n",
       "      <th>...</th>\n",
       "      <th>secondary_cleaner.state.floatbank4_a_air</th>\n",
       "      <th>secondary_cleaner.state.floatbank4_a_level</th>\n",
       "      <th>secondary_cleaner.state.floatbank4_b_air</th>\n",
       "      <th>secondary_cleaner.state.floatbank4_b_level</th>\n",
       "      <th>secondary_cleaner.state.floatbank5_a_air</th>\n",
       "      <th>secondary_cleaner.state.floatbank5_a_level</th>\n",
       "      <th>secondary_cleaner.state.floatbank5_b_air</th>\n",
       "      <th>secondary_cleaner.state.floatbank5_b_level</th>\n",
       "      <th>secondary_cleaner.state.floatbank6_a_air</th>\n",
       "      <th>secondary_cleaner.state.floatbank6_a_level</th>\n",
       "    </tr>\n",
       "  </thead>\n",
       "  <tbody>\n",
       "    <tr>\n",
       "      <th>0</th>\n",
       "      <td>2016-01-15 00:00:00</td>\n",
       "      <td>6.055403</td>\n",
       "      <td>9.889648</td>\n",
       "      <td>5.507324</td>\n",
       "      <td>42.192020</td>\n",
       "      <td>70.541216</td>\n",
       "      <td>10.411962</td>\n",
       "      <td>0.895447</td>\n",
       "      <td>16.904297</td>\n",
       "      <td>2.143149</td>\n",
       "      <td>...</td>\n",
       "      <td>14.016835</td>\n",
       "      <td>-502.488007</td>\n",
       "      <td>12.099931</td>\n",
       "      <td>-504.715942</td>\n",
       "      <td>9.925633</td>\n",
       "      <td>-498.310211</td>\n",
       "      <td>8.079666</td>\n",
       "      <td>-500.470978</td>\n",
       "      <td>14.151341</td>\n",
       "      <td>-605.841980</td>\n",
       "    </tr>\n",
       "    <tr>\n",
       "      <th>1</th>\n",
       "      <td>2016-01-15 01:00:00</td>\n",
       "      <td>6.029369</td>\n",
       "      <td>9.968944</td>\n",
       "      <td>5.257781</td>\n",
       "      <td>42.701629</td>\n",
       "      <td>69.266198</td>\n",
       "      <td>10.462676</td>\n",
       "      <td>0.927452</td>\n",
       "      <td>16.634514</td>\n",
       "      <td>2.224930</td>\n",
       "      <td>...</td>\n",
       "      <td>13.992281</td>\n",
       "      <td>-505.503262</td>\n",
       "      <td>11.950531</td>\n",
       "      <td>-501.331529</td>\n",
       "      <td>10.039245</td>\n",
       "      <td>-500.169983</td>\n",
       "      <td>7.984757</td>\n",
       "      <td>-500.582168</td>\n",
       "      <td>13.998353</td>\n",
       "      <td>-599.787184</td>\n",
       "    </tr>\n",
       "  </tbody>\n",
       "</table>\n",
       "<p>2 rows × 87 columns</p>\n",
       "</div>"
      ],
      "text/plain": [
       "                  date  final.output.concentrate_ag  \\\n",
       "0  2016-01-15 00:00:00                     6.055403   \n",
       "1  2016-01-15 01:00:00                     6.029369   \n",
       "\n",
       "   final.output.concentrate_pb  final.output.concentrate_sol  \\\n",
       "0                     9.889648                      5.507324   \n",
       "1                     9.968944                      5.257781   \n",
       "\n",
       "   final.output.concentrate_au  final.output.recovery  final.output.tail_ag  \\\n",
       "0                    42.192020              70.541216             10.411962   \n",
       "1                    42.701629              69.266198             10.462676   \n",
       "\n",
       "   final.output.tail_pb  final.output.tail_sol  final.output.tail_au  ...  \\\n",
       "0              0.895447              16.904297              2.143149  ...   \n",
       "1              0.927452              16.634514              2.224930  ...   \n",
       "\n",
       "   secondary_cleaner.state.floatbank4_a_air  \\\n",
       "0                                 14.016835   \n",
       "1                                 13.992281   \n",
       "\n",
       "   secondary_cleaner.state.floatbank4_a_level  \\\n",
       "0                                 -502.488007   \n",
       "1                                 -505.503262   \n",
       "\n",
       "   secondary_cleaner.state.floatbank4_b_air  \\\n",
       "0                                 12.099931   \n",
       "1                                 11.950531   \n",
       "\n",
       "   secondary_cleaner.state.floatbank4_b_level  \\\n",
       "0                                 -504.715942   \n",
       "1                                 -501.331529   \n",
       "\n",
       "   secondary_cleaner.state.floatbank5_a_air  \\\n",
       "0                                  9.925633   \n",
       "1                                 10.039245   \n",
       "\n",
       "   secondary_cleaner.state.floatbank5_a_level  \\\n",
       "0                                 -498.310211   \n",
       "1                                 -500.169983   \n",
       "\n",
       "   secondary_cleaner.state.floatbank5_b_air  \\\n",
       "0                                  8.079666   \n",
       "1                                  7.984757   \n",
       "\n",
       "   secondary_cleaner.state.floatbank5_b_level  \\\n",
       "0                                 -500.470978   \n",
       "1                                 -500.582168   \n",
       "\n",
       "   secondary_cleaner.state.floatbank6_a_air  \\\n",
       "0                                 14.151341   \n",
       "1                                 13.998353   \n",
       "\n",
       "   secondary_cleaner.state.floatbank6_a_level  \n",
       "0                                 -605.841980  \n",
       "1                                 -599.787184  \n",
       "\n",
       "[2 rows x 87 columns]"
      ]
     },
     "metadata": {},
     "output_type": "display_data"
    },
    {
     "name": "stdout",
     "output_type": "stream",
     "text": [
      "<class 'pandas.core.frame.DataFrame'>\n",
      "RangeIndex: 22716 entries, 0 to 22715\n",
      "Data columns (total 87 columns):\n",
      " #   Column                                              Non-Null Count  Dtype  \n",
      "---  ------                                              --------------  -----  \n",
      " 0   date                                                22716 non-null  object \n",
      " 1   final.output.concentrate_ag                         22627 non-null  float64\n",
      " 2   final.output.concentrate_pb                         22629 non-null  float64\n",
      " 3   final.output.concentrate_sol                        22331 non-null  float64\n",
      " 4   final.output.concentrate_au                         22630 non-null  float64\n",
      " 5   final.output.recovery                               20949 non-null  float64\n",
      " 6   final.output.tail_ag                                22633 non-null  float64\n",
      " 7   final.output.tail_pb                                22516 non-null  float64\n",
      " 8   final.output.tail_sol                               22445 non-null  float64\n",
      " 9   final.output.tail_au                                22635 non-null  float64\n",
      " 10  primary_cleaner.input.sulfate                       21107 non-null  float64\n",
      " 11  primary_cleaner.input.depressant                    21170 non-null  float64\n",
      " 12  primary_cleaner.input.feed_size                     22716 non-null  float64\n",
      " 13  primary_cleaner.input.xanthate                      21565 non-null  float64\n",
      " 14  primary_cleaner.output.concentrate_ag               22618 non-null  float64\n",
      " 15  primary_cleaner.output.concentrate_pb               22268 non-null  float64\n",
      " 16  primary_cleaner.output.concentrate_sol              21918 non-null  float64\n",
      " 17  primary_cleaner.output.concentrate_au               22618 non-null  float64\n",
      " 18  primary_cleaner.output.tail_ag                      22614 non-null  float64\n",
      " 19  primary_cleaner.output.tail_pb                      22594 non-null  float64\n",
      " 20  primary_cleaner.output.tail_sol                     22365 non-null  float64\n",
      " 21  primary_cleaner.output.tail_au                      22617 non-null  float64\n",
      " 22  primary_cleaner.state.floatbank8_a_air              22660 non-null  float64\n",
      " 23  primary_cleaner.state.floatbank8_a_level            22667 non-null  float64\n",
      " 24  primary_cleaner.state.floatbank8_b_air              22660 non-null  float64\n",
      " 25  primary_cleaner.state.floatbank8_b_level            22673 non-null  float64\n",
      " 26  primary_cleaner.state.floatbank8_c_air              22662 non-null  float64\n",
      " 27  primary_cleaner.state.floatbank8_c_level            22673 non-null  float64\n",
      " 28  primary_cleaner.state.floatbank8_d_air              22661 non-null  float64\n",
      " 29  primary_cleaner.state.floatbank8_d_level            22673 non-null  float64\n",
      " 30  rougher.calculation.sulfate_to_au_concentrate       22672 non-null  float64\n",
      " 31  rougher.calculation.floatbank10_sulfate_to_au_feed  22672 non-null  float64\n",
      " 32  rougher.calculation.floatbank11_sulfate_to_au_feed  22672 non-null  float64\n",
      " 33  rougher.calculation.au_pb_ratio                     21089 non-null  float64\n",
      " 34  rougher.input.feed_ag                               22618 non-null  float64\n",
      " 35  rougher.input.feed_pb                               22472 non-null  float64\n",
      " 36  rougher.input.feed_rate                             22163 non-null  float64\n",
      " 37  rougher.input.feed_size                             22277 non-null  float64\n",
      " 38  rougher.input.feed_sol                              22357 non-null  float64\n",
      " 39  rougher.input.feed_au                               22617 non-null  float64\n",
      " 40  rougher.input.floatbank10_sulfate                   21415 non-null  float64\n",
      " 41  rougher.input.floatbank10_xanthate                  22247 non-null  float64\n",
      " 42  rougher.input.floatbank11_sulfate                   22038 non-null  float64\n",
      " 43  rougher.input.floatbank11_xanthate                  20459 non-null  float64\n",
      " 44  rougher.output.concentrate_ag                       22618 non-null  float64\n",
      " 45  rougher.output.concentrate_pb                       22618 non-null  float64\n",
      " 46  rougher.output.concentrate_sol                      22526 non-null  float64\n",
      " 47  rougher.output.concentrate_au                       22618 non-null  float64\n",
      " 48  rougher.output.recovery                             19597 non-null  float64\n",
      " 49  rougher.output.tail_ag                              19979 non-null  float64\n",
      " 50  rougher.output.tail_pb                              22618 non-null  float64\n",
      " 51  rougher.output.tail_sol                             19980 non-null  float64\n",
      " 52  rougher.output.tail_au                              19980 non-null  float64\n",
      " 53  rougher.state.floatbank10_a_air                     22646 non-null  float64\n",
      " 54  rougher.state.floatbank10_a_level                   22647 non-null  float64\n",
      " 55  rougher.state.floatbank10_b_air                     22646 non-null  float64\n",
      " 56  rougher.state.floatbank10_b_level                   22647 non-null  float64\n",
      " 57  rougher.state.floatbank10_c_air                     22646 non-null  float64\n",
      " 58  rougher.state.floatbank10_c_level                   22654 non-null  float64\n",
      " 59  rougher.state.floatbank10_d_air                     22641 non-null  float64\n",
      " 60  rougher.state.floatbank10_d_level                   22649 non-null  float64\n",
      " 61  rougher.state.floatbank10_e_air                     22096 non-null  float64\n",
      " 62  rougher.state.floatbank10_e_level                   22649 non-null  float64\n",
      " 63  rougher.state.floatbank10_f_air                     22641 non-null  float64\n",
      " 64  rougher.state.floatbank10_f_level                   22642 non-null  float64\n",
      " 65  secondary_cleaner.output.tail_ag                    22616 non-null  float64\n",
      " 66  secondary_cleaner.output.tail_pb                    22600 non-null  float64\n",
      " 67  secondary_cleaner.output.tail_sol                   20501 non-null  float64\n",
      " 68  secondary_cleaner.output.tail_au                    22618 non-null  float64\n",
      " 69  secondary_cleaner.state.floatbank2_a_air            22333 non-null  float64\n",
      " 70  secondary_cleaner.state.floatbank2_a_level          22591 non-null  float64\n",
      " 71  secondary_cleaner.state.floatbank2_b_air            22538 non-null  float64\n",
      " 72  secondary_cleaner.state.floatbank2_b_level          22588 non-null  float64\n",
      " 73  secondary_cleaner.state.floatbank3_a_air            22585 non-null  float64\n",
      " 74  secondary_cleaner.state.floatbank3_a_level          22587 non-null  float64\n",
      " 75  secondary_cleaner.state.floatbank3_b_air            22592 non-null  float64\n",
      " 76  secondary_cleaner.state.floatbank3_b_level          22590 non-null  float64\n",
      " 77  secondary_cleaner.state.floatbank4_a_air            22571 non-null  float64\n",
      " 78  secondary_cleaner.state.floatbank4_a_level          22587 non-null  float64\n",
      " 79  secondary_cleaner.state.floatbank4_b_air            22608 non-null  float64\n",
      " 80  secondary_cleaner.state.floatbank4_b_level          22607 non-null  float64\n",
      " 81  secondary_cleaner.state.floatbank5_a_air            22615 non-null  float64\n",
      " 82  secondary_cleaner.state.floatbank5_a_level          22615 non-null  float64\n",
      " 83  secondary_cleaner.state.floatbank5_b_air            22615 non-null  float64\n",
      " 84  secondary_cleaner.state.floatbank5_b_level          22616 non-null  float64\n",
      " 85  secondary_cleaner.state.floatbank6_a_air            22597 non-null  float64\n",
      " 86  secondary_cleaner.state.floatbank6_a_level          22615 non-null  float64\n",
      "dtypes: float64(86), object(1)\n",
      "memory usage: 15.1+ MB\n",
      "None\n",
      "\n"
     ]
    }
   ],
   "source": [
    "#Overview of data\n",
    "\n",
    "#gold_rec_train\n",
    "display(gold_rec_train.head(2))\n",
    "print(gold_rec_train.info())\n",
    "print()\n",
    "\n",
    "#gold_rec_test\n",
    "display(gold_rec_test.head(2))\n",
    "print(gold_rec_test.info())\n",
    "print()\n",
    "\n",
    "#gold_rec_full\n",
    "display(gold_rec_full.head(2))\n",
    "print(gold_rec_full.info())\n",
    "print()"
   ]
  },
  {
   "cell_type": "markdown",
   "metadata": {},
   "source": [
    "Right from the outset we see that the train dataset has many more columns than the test dataset. Which columns are those?"
   ]
  },
  {
   "cell_type": "code",
   "execution_count": 11,
   "metadata": {},
   "outputs": [
    {
     "name": "stdout",
     "output_type": "stream",
     "text": [
      "['primary_cleaner.output.concentrate_au', 'primary_cleaner.output.concentrate_ag', 'final.output.tail_pb', 'rougher.calculation.floatbank10_sulfate_to_au_feed', 'rougher.output.tail_au', 'final.output.concentrate_ag', 'rougher.calculation.au_pb_ratio', 'secondary_cleaner.output.tail_ag', 'final.output.tail_sol', 'primary_cleaner.output.concentrate_sol', 'rougher.output.concentrate_sol', 'rougher.output.concentrate_ag', 'rougher.calculation.sulfate_to_au_concentrate', 'rougher.output.concentrate_pb', 'primary_cleaner.output.tail_pb', 'rougher.output.recovery', 'final.output.concentrate_sol', 'rougher.output.tail_sol', 'final.output.tail_ag', 'final.output.concentrate_pb', 'final.output.recovery', 'rougher.output.tail_ag', 'rougher.output.concentrate_au', 'secondary_cleaner.output.tail_pb', 'primary_cleaner.output.tail_au', 'secondary_cleaner.output.tail_sol', 'primary_cleaner.output.tail_ag', 'rougher.calculation.floatbank11_sulfate_to_au_feed', 'final.output.tail_au', 'rougher.output.tail_pb', 'primary_cleaner.output.concentrate_pb', 'secondary_cleaner.output.tail_au', 'primary_cleaner.output.tail_sol', 'final.output.concentrate_au']\n"
     ]
    }
   ],
   "source": [
    "#which are the missing columns?\n",
    "cols_missing = set(gold_rec_train.columns) - set(gold_rec_test.columns)\n",
    "cols_missing = list(cols_missing)\n",
    "\n",
    "print(cols_missing)"
   ]
  },
  {
   "cell_type": "markdown",
   "metadata": {},
   "source": [
    "**Summary**\n",
    "\n",
    "We were informed upon receiving the dataset that some of the information present in the training dataset was measured/calculated much later. This leads me to believe that the data missing in the test dataset is actually data which we won't have access to until much later in the process.\n",
    "\n",
    "What this means is that, for the prediction model, we can only use the data present in the test dataset, since all the other data will only show up much later, and thus cannot be used promptly in the machine learning model to predict the final pure gold output of a rough ore input in the beginning. Using the full data of the train dataset would result in 'target leakage'. The only thing we'll add to this is the objective, `final.output.recovery`.\n",
    "\n",
    "Target leakage occurs when the data used to train a model contains information that would not be available in a real-world scenario, making the model's predictions seem better than they actually are. By using only the data columns available in the test dataset, we prevent target leakage.\n",
    "\n",
    "**Next Steps**\n",
    "\n",
    "What we'll do now is get the full dataset and rid it of the extra columns we have in the training dataset versus the test dataset. Then we'll proceed with data pre-processing - remove duplicates and missing values."
   ]
  },
  {
   "cell_type": "markdown",
   "metadata": {},
   "source": [
    "### Data Cleaning"
   ]
  },
  {
   "cell_type": "code",
   "execution_count": 12,
   "metadata": {
    "scrolled": false
   },
   "outputs": [],
   "source": [
    "#Producing dataset that prevents target leakage\n",
    "cols_missing.remove('final.output.recovery')\n",
    "df = gold_rec_full.drop(cols_missing, axis = 1)\n",
    "\n",
    "cols_missing.append('final.output.recovery')\n",
    "cols_missing.remove('rougher.output.recovery')\n",
    "df_r = gold_rec_full.drop(cols_missing, axis = 1)"
   ]
  },
  {
   "cell_type": "code",
   "execution_count": 13,
   "metadata": {},
   "outputs": [
    {
     "name": "stdout",
     "output_type": "stream",
     "text": [
      "Final df\n",
      "date                                             0\n",
      "final.output.recovery                         1767\n",
      "primary_cleaner.input.sulfate                 1609\n",
      "primary_cleaner.input.depressant              1546\n",
      "primary_cleaner.input.feed_size                  0\n",
      "primary_cleaner.input.xanthate                1151\n",
      "primary_cleaner.state.floatbank8_a_air          56\n",
      "primary_cleaner.state.floatbank8_a_level        49\n",
      "primary_cleaner.state.floatbank8_b_air          56\n",
      "primary_cleaner.state.floatbank8_b_level        43\n",
      "primary_cleaner.state.floatbank8_c_air          54\n",
      "primary_cleaner.state.floatbank8_c_level        43\n",
      "primary_cleaner.state.floatbank8_d_air          55\n",
      "primary_cleaner.state.floatbank8_d_level        43\n",
      "rougher.input.feed_ag                           98\n",
      "rougher.input.feed_pb                          244\n",
      "rougher.input.feed_rate                        553\n",
      "rougher.input.feed_size                        439\n",
      "rougher.input.feed_sol                         359\n",
      "rougher.input.feed_au                           99\n",
      "rougher.input.floatbank10_sulfate             1301\n",
      "rougher.input.floatbank10_xanthate             469\n",
      "rougher.input.floatbank11_sulfate              678\n",
      "rougher.input.floatbank11_xanthate            2257\n",
      "rougher.state.floatbank10_a_air                 70\n",
      "rougher.state.floatbank10_a_level               69\n",
      "rougher.state.floatbank10_b_air                 70\n",
      "rougher.state.floatbank10_b_level               69\n",
      "rougher.state.floatbank10_c_air                 70\n",
      "rougher.state.floatbank10_c_level               62\n",
      "rougher.state.floatbank10_d_air                 75\n",
      "rougher.state.floatbank10_d_level               67\n",
      "rougher.state.floatbank10_e_air                620\n",
      "rougher.state.floatbank10_e_level               67\n",
      "rougher.state.floatbank10_f_air                 75\n",
      "rougher.state.floatbank10_f_level               74\n",
      "secondary_cleaner.state.floatbank2_a_air       383\n",
      "secondary_cleaner.state.floatbank2_a_level     125\n",
      "secondary_cleaner.state.floatbank2_b_air       178\n",
      "secondary_cleaner.state.floatbank2_b_level     128\n",
      "secondary_cleaner.state.floatbank3_a_air       131\n",
      "secondary_cleaner.state.floatbank3_a_level     129\n",
      "secondary_cleaner.state.floatbank3_b_air       124\n",
      "secondary_cleaner.state.floatbank3_b_level     126\n",
      "secondary_cleaner.state.floatbank4_a_air       145\n",
      "secondary_cleaner.state.floatbank4_a_level     129\n",
      "secondary_cleaner.state.floatbank4_b_air       108\n",
      "secondary_cleaner.state.floatbank4_b_level     109\n",
      "secondary_cleaner.state.floatbank5_a_air       101\n",
      "secondary_cleaner.state.floatbank5_a_level     101\n",
      "secondary_cleaner.state.floatbank5_b_air       101\n",
      "secondary_cleaner.state.floatbank5_b_level     100\n",
      "secondary_cleaner.state.floatbank6_a_air       119\n",
      "secondary_cleaner.state.floatbank6_a_level     101\n",
      "dtype: int64\n",
      "Duplicates: 0\n",
      "22716\n",
      "\n",
      "Rougher df\n",
      "date                                             0\n",
      "primary_cleaner.input.sulfate                 1609\n",
      "primary_cleaner.input.depressant              1546\n",
      "primary_cleaner.input.feed_size                  0\n",
      "primary_cleaner.input.xanthate                1151\n",
      "primary_cleaner.state.floatbank8_a_air          56\n",
      "primary_cleaner.state.floatbank8_a_level        49\n",
      "primary_cleaner.state.floatbank8_b_air          56\n",
      "primary_cleaner.state.floatbank8_b_level        43\n",
      "primary_cleaner.state.floatbank8_c_air          54\n",
      "primary_cleaner.state.floatbank8_c_level        43\n",
      "primary_cleaner.state.floatbank8_d_air          55\n",
      "primary_cleaner.state.floatbank8_d_level        43\n",
      "rougher.input.feed_ag                           98\n",
      "rougher.input.feed_pb                          244\n",
      "rougher.input.feed_rate                        553\n",
      "rougher.input.feed_size                        439\n",
      "rougher.input.feed_sol                         359\n",
      "rougher.input.feed_au                           99\n",
      "rougher.input.floatbank10_sulfate             1301\n",
      "rougher.input.floatbank10_xanthate             469\n",
      "rougher.input.floatbank11_sulfate              678\n",
      "rougher.input.floatbank11_xanthate            2257\n",
      "rougher.output.recovery                       3119\n",
      "rougher.state.floatbank10_a_air                 70\n",
      "rougher.state.floatbank10_a_level               69\n",
      "rougher.state.floatbank10_b_air                 70\n",
      "rougher.state.floatbank10_b_level               69\n",
      "rougher.state.floatbank10_c_air                 70\n",
      "rougher.state.floatbank10_c_level               62\n",
      "rougher.state.floatbank10_d_air                 75\n",
      "rougher.state.floatbank10_d_level               67\n",
      "rougher.state.floatbank10_e_air                620\n",
      "rougher.state.floatbank10_e_level               67\n",
      "rougher.state.floatbank10_f_air                 75\n",
      "rougher.state.floatbank10_f_level               74\n",
      "secondary_cleaner.state.floatbank2_a_air       383\n",
      "secondary_cleaner.state.floatbank2_a_level     125\n",
      "secondary_cleaner.state.floatbank2_b_air       178\n",
      "secondary_cleaner.state.floatbank2_b_level     128\n",
      "secondary_cleaner.state.floatbank3_a_air       131\n",
      "secondary_cleaner.state.floatbank3_a_level     129\n",
      "secondary_cleaner.state.floatbank3_b_air       124\n",
      "secondary_cleaner.state.floatbank3_b_level     126\n",
      "secondary_cleaner.state.floatbank4_a_air       145\n",
      "secondary_cleaner.state.floatbank4_a_level     129\n",
      "secondary_cleaner.state.floatbank4_b_air       108\n",
      "secondary_cleaner.state.floatbank4_b_level     109\n",
      "secondary_cleaner.state.floatbank5_a_air       101\n",
      "secondary_cleaner.state.floatbank5_a_level     101\n",
      "secondary_cleaner.state.floatbank5_b_air       101\n",
      "secondary_cleaner.state.floatbank5_b_level     100\n",
      "secondary_cleaner.state.floatbank6_a_air       119\n",
      "secondary_cleaner.state.floatbank6_a_level     101\n",
      "dtype: int64\n",
      "Duplicates: 0\n",
      "22716\n"
     ]
    }
   ],
   "source": [
    "#Checking for missing and duplicated values\n",
    "print('Final df')\n",
    "print(df.isna().sum())\n",
    "print('Duplicates:', df.duplicated().sum())\n",
    "print(len(df))\n",
    "\n",
    "print()\n",
    "print('Rougher df')\n",
    "print(df_r.isna().sum())\n",
    "print('Duplicates:', df_r.duplicated().sum())\n",
    "print(len(df_r))"
   ]
  },
  {
   "cell_type": "code",
   "execution_count": 14,
   "metadata": {
    "scrolled": true
   },
   "outputs": [
    {
     "name": "stdout",
     "output_type": "stream",
     "text": [
      "18772\n",
      "\n",
      "18012\n"
     ]
    }
   ],
   "source": [
    "df = df.dropna()\n",
    "print(len(df))\n",
    "print()\n",
    "df_r = df_r.dropna()\n",
    "print(len(df_r))"
   ]
  },
  {
   "cell_type": "markdown",
   "metadata": {},
   "source": [
    "We had to drop about 20% of our datasets, but the data is now clean and ready to be analyzed. Now, we split the data between train and test, target and features. Let's just check first what columns we'll use for features and drop the ones that won't be useful."
   ]
  },
  {
   "cell_type": "code",
   "execution_count": 15,
   "metadata": {},
   "outputs": [],
   "source": [
    "#dropping columns not needed for ML training\n",
    "df = df.drop('date', axis = 1)\n",
    "df_r = df_r.drop('date', axis = 1)"
   ]
  },
  {
   "cell_type": "code",
   "execution_count": 16,
   "metadata": {},
   "outputs": [],
   "source": [
    "#Features and Targets split\n",
    "\n",
    "df_target = df['final.output.recovery']\n",
    "df_features = df.drop('final.output.recovery', axis = 1)\n",
    "\n",
    "df_target_r = df_r['rougher.output.recovery']\n",
    "df_features_r = df_r.drop('rougher.output.recovery', axis = 1)"
   ]
  },
  {
   "cell_type": "code",
   "execution_count": 17,
   "metadata": {},
   "outputs": [],
   "source": [
    "#Train & Test split final\n",
    "df_train_feat, df_test_feat, df_train_targ, df_test_targ = \\\n",
    "train_test_split(df_features, df_target, test_size = 0.25, random_state = 1)\n",
    "\n",
    "\n",
    "#Train & Test split rougher\n",
    "df_train_feat_r, df_test_feat_r, df_train_targ_r, df_test_targ_r = \\\n",
    "train_test_split(df_features_r, df_target_r, test_size = 0.25, random_state = 1)"
   ]
  },
  {
   "cell_type": "markdown",
   "metadata": {},
   "source": [
    "## EDA - Data Analysis\n",
    "\n",
    "Alright, so for this section, we'll consider the full dataset we received from the customer, `gold_rec_full`."
   ]
  },
  {
   "cell_type": "markdown",
   "metadata": {},
   "source": [
    "### Compound Concentration Varying by Stage\n",
    "\n",
    "Here we'll check the difference in concentration of the output metals by purification stage."
   ]
  },
  {
   "cell_type": "code",
   "execution_count": 18,
   "metadata": {
    "scrolled": false
   },
   "outputs": [
    {
     "data": {
      "image/png": "[encoded data removed]",
      "text/plain": [
       "<Figure size 576x432 with 1 Axes>"
      ]
     },
     "metadata": {
      "needs_background": "light"
     },
     "output_type": "display_data"
    }
   ],
   "source": [
    "metals = ['Ag', 'Pb', 'Sol', 'Au']\n",
    "ag = gold_rec_full['rougher.output.concentrate_ag'].median()\n",
    "pb = gold_rec_full['rougher.output.concentrate_pb'].median()\n",
    "sol = gold_rec_full['rougher.output.concentrate_sol'].median()\n",
    "au = gold_rec_full['rougher.output.concentrate_au'].median()\n",
    "\n",
    "medians = [ag, pb, sol, au]\n",
    "\n",
    "# Create the bar chart\n",
    "plt.figure(figsize=(8, 6))\n",
    "plt.bar(metals, medians, color='grey')\n",
    "\n",
    "# Add labels and title\n",
    "plt.xlabel('Metals')\n",
    "plt.ylabel('Median Concentration')\n",
    "plt.title('Median Concentration of Metals, Rougher Stage')\n",
    "\n",
    "# Show the plot\n",
    "plt.show()"
   ]
  },
  {
   "cell_type": "markdown",
   "metadata": {},
   "source": [
    "It seems that in the first stage, the greatest concentration is for `Sol`, followed by `Au`. Let's see how this changes thoughout the stages."
   ]
  },
  {
   "cell_type": "code",
   "execution_count": 19,
   "metadata": {
    "scrolled": false
   },
   "outputs": [
    {
     "data": {
      "image/png": "[encoded data removed]",
      "text/plain": [
       "<Figure size 576x432 with 1 Axes>"
      ]
     },
     "metadata": {
      "needs_background": "light"
     },
     "output_type": "display_data"
    }
   ],
   "source": [
    "ag = gold_rec_full['primary_cleaner.output.concentrate_ag'].median()\n",
    "pb = gold_rec_full['primary_cleaner.output.concentrate_pb'].median()\n",
    "sol = gold_rec_full['primary_cleaner.output.concentrate_sol'].median()\n",
    "au = gold_rec_full['primary_cleaner.output.concentrate_au'].median()\n",
    "\n",
    "medians = [ag, pb, sol, au]\n",
    "\n",
    "plt.figure(figsize=(8, 6))\n",
    "plt.bar(metals, medians, color='grey')\n",
    "\n",
    "# Add labels and title\n",
    "plt.xlabel('Metals')\n",
    "plt.ylabel('Median Concentration')\n",
    "plt.title('Median Concentration of Metals, Primary Cleaner Stage')\n",
    "\n",
    "# Show the plot\n",
    "plt.show()"
   ]
  },
  {
   "cell_type": "markdown",
   "metadata": {},
   "source": [
    "Here we see a large increase in Au, and large reductions in Sol. Slight increase for Pb and small decrease for Ag."
   ]
  },
  {
   "cell_type": "code",
   "execution_count": 20,
   "metadata": {
    "scrolled": false
   },
   "outputs": [
    {
     "data": {
      "image/png": "[encoded data removed]",
      "text/plain": [
       "<Figure size 576x432 with 1 Axes>"
      ]
     },
     "metadata": {
      "needs_background": "light"
     },
     "output_type": "display_data"
    }
   ],
   "source": [
    "ag = gold_rec_full['final.output.concentrate_ag'].median()\n",
    "pb = gold_rec_full['final.output.concentrate_pb'].median()\n",
    "sol = gold_rec_full['final.output.concentrate_sol'].median()\n",
    "au = gold_rec_full['final.output.concentrate_au'].median()\n",
    "\n",
    "medians = [ag, pb, sol, au]\n",
    "\n",
    "plt.figure(figsize=(8, 6))\n",
    "plt.bar(metals, medians, color='grey')\n",
    "\n",
    "# Add labels and title\n",
    "plt.xlabel('Metals')\n",
    "plt.ylabel('Median Concentration')\n",
    "plt.title('Median Concentration of Metals, Final Stage')\n",
    "\n",
    "# Show the plot\n",
    "plt.show()"
   ]
  },
  {
   "cell_type": "markdown",
   "metadata": {},
   "source": [
    "And then, on the final stage, concentrations of all other compounds fall a bit, and Au concentration increases significantly. Au concentrations start at around 20 in the rougher stage, and increase to 30 in the primary cleaner stage, reaching more than 40 in the final stage, while all other compounds fall in concentration."
   ]
  },
  {
   "cell_type": "markdown",
   "metadata": {},
   "source": [
    "### Comparing the ore particle size distributions in the training dataset and the test dataset\n",
    "\n",
    "Let's check if the the training and test datasets we have created from the full dataset have good ore size distributions, as measured by the `rougher.input.feed_size`. We'll build a histogram for both, and check if they are similarly distributed.\n",
    "\n",
    "We'll then compare that with the original datasets provided for training and testing."
   ]
  },
  {
   "cell_type": "code",
   "execution_count": 21,
   "metadata": {},
   "outputs": [
    {
     "data": {
      "image/png": "[encoded data removed]",
      "text/plain": [
       "<Figure size 432x288 with 1 Axes>"
      ]
     },
     "metadata": {
      "needs_background": "light"
     },
     "output_type": "display_data"
    }
   ],
   "source": [
    "#Plotting train dataset feed_size\n",
    "df_train_feat['rougher.input.feed_size'].plot(kind = 'hist', label = 'Train')\n",
    "df_test_feat['rougher.input.feed_size'].plot(kind = 'hist', label = 'Test')\n",
    "plt.xlabel('Size')\n",
    "plt.title('Train vs Test Datasets Feed Size Distribution')\n",
    "plt.legend()\n",
    "plt.show()"
   ]
  },
  {
   "cell_type": "markdown",
   "metadata": {},
   "source": [
    "What we see above are the distributions of ore feed sizes in the train and test datasets that we created through the original full dataset the customer sent us. We observe the following:\n",
    " - The distribution is very similar\n",
    " - There are a few very large values in the dataset"
   ]
  },
  {
   "cell_type": "code",
   "execution_count": 22,
   "metadata": {},
   "outputs": [
    {
     "data": {
      "image/png": "[encoded data removed]",
      "text/plain": [
       "<Figure size 432x288 with 1 Axes>"
      ]
     },
     "metadata": {
      "needs_background": "light"
     },
     "output_type": "display_data"
    }
   ],
   "source": [
    "#Plotting train dataset feed_size\n",
    "gold_rec_train['rougher.input.feed_size'].plot(kind = 'hist', label = 'Train')\n",
    "gold_rec_test['rougher.input.feed_size'].plot(kind = 'hist', label = 'Test')\n",
    "plt.xlabel('Size')\n",
    "plt.title('Test Dataset Feed Size Distribution')\n",
    "plt.legend()\n",
    "plt.show()"
   ]
  },
  {
   "cell_type": "markdown",
   "metadata": {},
   "source": [
    "This one compares the distribution of ore sizes between the test and train datasets that we received. As we can observe, the distributions are not that similar, and therefore this could cause problems when training our machine learning model.\n",
    "\n",
    "We'll stick to the datasets we created through the original full dataset."
   ]
  },
  {
   "cell_type": "markdown",
   "metadata": {},
   "source": [
    "## Building the Model\n",
    "\n",
    "The final section of the project. Our aim here is to accomplish the following:\n",
    "1. Build a function to calculate the sMAPE (symetric Mean Absolute Percentage Error)\n",
    "2. Train different models, evaluate them using cross-validation and sMAPE. Pick the best model, test it."
   ]
  },
  {
   "cell_type": "code",
   "execution_count": 23,
   "metadata": {},
   "outputs": [],
   "source": [
    "#Building the sMAPE fucntion\n",
    "def smape(y_true, y_pred):\n",
    "    \n",
    "    y_true, y_pred = np.array(y_true), np.array(y_pred)\n",
    "    \n",
    "    #Calculate the absolute percentage error for each data point\n",
    "    absolute_percentage_error = np.abs((y_true - y_pred) / ((np.abs(y_true) + np.abs(y_pred)) / 2))\n",
    "    \n",
    "    #Handle cases where y_true is 0 by setting the error to 0\n",
    "    absolute_percentage_error[np.isnan(absolute_percentage_error)] = 0\n",
    "    \n",
    "    #Calculate the mean sMAPE\n",
    "    smape = np.mean(absolute_percentage_error) * 100\n",
    "    \n",
    "    return smape"
   ]
  },
  {
   "cell_type": "code",
   "execution_count": 24,
   "metadata": {},
   "outputs": [],
   "source": [
    "def smape_final(smape_rougher, smape_final):\n",
    "    smape_fin = 0.25*smape_rougher + 0.75*smape_final\n",
    "    return smape_fin"
   ]
  },
  {
   "cell_type": "markdown",
   "metadata": {},
   "source": [
    "Now that we have our sMAPE function, let's get to the model building. First, we have to scale the data."
   ]
  },
  {
   "cell_type": "code",
   "execution_count": 25,
   "metadata": {},
   "outputs": [],
   "source": [
    "#scaling the data\n",
    "\n",
    "#Create a StandardScaler instance\n",
    "scaler = StandardScaler()\n",
    "\n",
    "#Fit the scaler to the training data and transform it\n",
    "df_train_feat_scaled = scaler.fit_transform(df_train_feat)\n",
    "\n",
    "# Use the same scaler to transform the test data\n",
    "df_test_feat_scaled = scaler.transform(df_test_feat)\n",
    "\n",
    "# Scaling rougher df too\n",
    "scaler_r = StandardScaler()\n",
    "\n",
    "df_train_feat_r_scaled = scaler_r.fit_transform(df_train_feat_r)\n",
    "df_test_feat_r_scaled = scaler_r.transform(df_test_feat_r)"
   ]
  },
  {
   "cell_type": "markdown",
   "metadata": {},
   "source": [
    "**Linear Regression Model Test**"
   ]
  },
  {
   "cell_type": "code",
   "execution_count": 26,
   "metadata": {},
   "outputs": [],
   "source": [
    "#Training LinearRegression Model\n",
    "model0 = LinearRegression()\n",
    "model0_r = LinearRegression()\n",
    "\n",
    "#rougher\n",
    "model0_r.fit(df_train_feat_r_scaled, df_train_targ_r)\n",
    "y_pred0_r = model0_r.predict(df_test_feat_r_scaled)\n",
    "\n",
    "\n",
    "#final\n",
    "model0.fit(df_train_feat_scaled, df_train_targ)\n",
    "y_pred0 = model0.predict(df_test_feat_scaled)"
   ]
  },
  {
   "cell_type": "code",
   "execution_count": 27,
   "metadata": {},
   "outputs": [
    {
     "name": "stdout",
     "output_type": "stream",
     "text": [
      "72.85850242932499\n",
      "\n",
      "Cross-Validation Scores Mean: 0.005939954820946373\n"
     ]
    }
   ],
   "source": [
    "#Eval metrics\n",
    "smape_rougher0 = smape(df_test_targ_r, y_pred0_r)\n",
    "smape_fin0 = smape(df_test_targ, y_pred0)\n",
    "print(smape_final(smape_rougher0, smape_fin0))\n",
    "\n",
    "print()\n",
    "lin_reg_model = LinearRegression()\n",
    "print('Cross-Validation Scores Mean:', cross_val_score(lin_reg_model, df_train_feat_scaled, df_train_targ, cv=3).mean())"
   ]
  },
  {
   "cell_type": "markdown",
   "metadata": {},
   "source": [
    "The SMAPE for the Linear Regression Model is at 72%, which means that it predicts the values with an average error of almost 72%. This model is out. Let's test some others."
   ]
  },
  {
   "cell_type": "markdown",
   "metadata": {},
   "source": [
    "**Random Forest Regressor**"
   ]
  },
  {
   "cell_type": "code",
   "execution_count": 28,
   "metadata": {},
   "outputs": [
    {
     "name": "stdout",
     "output_type": "stream",
     "text": [
      "CPU times: user 2min 58s, sys: 285 ms, total: 2min 58s\n",
      "Wall time: 2min 59s\n"
     ]
    }
   ],
   "source": [
    "%%time\n",
    "\n",
    "#Random Forest Rougher\n",
    "model1_r = RandomForestRegressor(n_estimators=100, random_state=1)\n",
    "model1_r.fit(df_train_feat_r_scaled, df_train_targ_r)\n",
    "y_pred1_r = model1_r.predict(df_test_feat_r_scaled)\n",
    "\n",
    "\n",
    "#Random Forest Final\n",
    "model1 = RandomForestRegressor(n_estimators=50, random_state=1)\n",
    "model1.fit(df_train_feat_scaled, df_train_targ)\n",
    "y_pred1 = model1.predict(df_test_feat_scaled)"
   ]
  },
  {
   "cell_type": "code",
   "execution_count": 29,
   "metadata": {},
   "outputs": [
    {
     "name": "stdout",
     "output_type": "stream",
     "text": [
      "7.680156904556854\n"
     ]
    },
    {
     "name": "stderr",
     "output_type": "stream",
     "text": [
      "/tmp/ipykernel_44/1007584637.py:7: RuntimeWarning: invalid value encountered in true_divide\n",
      "  absolute_percentage_error = np.abs((y_true - y_pred) / ((np.abs(y_true) + np.abs(y_pred)) / 2))\n"
     ]
    },
    {
     "name": "stdout",
     "output_type": "stream",
     "text": [
      "Cross-Validation Scores Mean: 0.20914209639238712\n",
      "CPU times: user 2min 12s, sys: 120 ms, total: 2min 12s\n",
      "Wall time: 2min 12s\n"
     ]
    }
   ],
   "source": [
    "%%time\n",
    "#Eval\n",
    "smape_rougher1 = smape(df_test_targ_r, y_pred1_r)\n",
    "smape_fin1 = smape(df_test_targ, y_pred1)\n",
    "print(smape_final(smape_rougher1, smape_fin1))\n",
    "\n",
    "random_forest_val = RandomForestRegressor(n_estimators=50, random_state=1)\n",
    "print('Cross-Validation Scores Mean:', cross_val_score(random_forest_val, df_train_feat_scaled, df_train_targ, cv=3).mean())"
   ]
  },
  {
   "cell_type": "markdown",
   "metadata": {},
   "source": [
    "With a much better SMAPE than the Linear Regression model, the Random Forest is a serious contender. Let's check one last model, LightGBM, which should run faster than the Random Forest model and might yield similar results."
   ]
  },
  {
   "cell_type": "markdown",
   "metadata": {},
   "source": [
    "**LightGBM**"
   ]
  },
  {
   "cell_type": "code",
   "execution_count": 30,
   "metadata": {},
   "outputs": [
    {
     "name": "stdout",
     "output_type": "stream",
     "text": [
      "CPU times: user 1.33 s, sys: 11.5 ms, total: 1.35 s\n",
      "Wall time: 1.37 s\n"
     ]
    }
   ],
   "source": [
    "%%time\n",
    "\n",
    "#LightGBM\n",
    "params = {\n",
    "    'num_leaves': 31,\n",
    "    'learning_rate': 0.05,\n",
    "    'n_estimators': 20,\n",
    "    'max_depth': -1,\n",
    "    'min_child_samples': 20,\n",
    "    'subsample': 0.8,\n",
    "    'colsample_bytree': 0.8,\n",
    "    'reg_alpha': 0.1,\n",
    "    'reg_lambda': 0.1,\n",
    "    'objective': 'regression',\n",
    "    'metric': 'mse',\n",
    "    'random_state': 1\n",
    "}\n",
    "\n",
    "\n",
    "#Rougher\n",
    "lgb_model_r = lgb.LGBMRegressor(**params)\n",
    "lgb_model_r.fit(df_train_feat_r_scaled, df_train_targ_r)\n",
    "y_pred2_r = lgb_model_r.predict(df_test_feat_r_scaled)\n",
    "\n",
    "#Final\n",
    "lgb_model = lgb.LGBMRegressor(**params)\n",
    "lgb_model.fit(df_train_feat_scaled, df_train_targ)\n",
    "y_pred2 = lgb_model.predict(df_test_feat_scaled)"
   ]
  },
  {
   "cell_type": "code",
   "execution_count": 31,
   "metadata": {
    "scrolled": false
   },
   "outputs": [
    {
     "name": "stdout",
     "output_type": "stream",
     "text": [
      "11.329913772303703\n",
      "\n",
      "Cross-Validation Scores Mean: 0.11228998440661282\n"
     ]
    }
   ],
   "source": [
    "#Eval\n",
    "smape_rougher2 = smape(df_test_targ_r, y_pred2_r)\n",
    "smape_fin2 = smape(df_test_targ, y_pred2)\n",
    "print(smape_final(smape_rougher2, smape_fin2))\n",
    "\n",
    "print()\n",
    "lgb_model_val = lgb.LGBMRegressor(**params)\n",
    "print('Cross-Validation Scores Mean:', cross_val_score(lgb_model_val, df_train_feat_scaled, df_train_targ, cv=3).mean())"
   ]
  },
  {
   "cell_type": "markdown",
   "metadata": {},
   "source": [
    "## Final Model Selection and Tuning Hyperparameters\n",
    "\n",
    "**Summary**\n",
    "\n",
    "By analyzing the SMAPE scores and the cross validation scores from all 3 models tested, here is what we observe:\n",
    " 1. Linear Regression model is out of question: terrible performance.\n",
    " 2. Random Forest: Best scores both in the cross validation as in the SMAPE, but takes the longest to load.\n",
    " 3. LightGBM: Incredibly fast and almost as accurate as the Random Forest.\n",
    " \n",
    "**Final Selection**\n",
    "The final model selection will be the Random Forest. The reason for this is that for the data we are trying to predict, accuracy matters more than speed, and the Random Forest model is more accurate, despite being the slowest, it is the best choice for the task at hand. **It can predict the gold recovery amount with less than 8% error.**\n",
    "\n",
    "With this, the final step is to tune the hyperparameters of both Random Forest models, the one that predicts the rougher output recovery and the one that predicts the final output recovery. And all of this was done avoiding target leakage."
   ]
  },
  {
   "cell_type": "code",
   "execution_count": 32,
   "metadata": {},
   "outputs": [
    {
     "name": "stdout",
     "output_type": "stream",
     "text": [
      "Best Parameters: {'n_estimators': 100}\n",
      "Best Negative Mean Squared Error: 85.90998104371909\n",
      "CPU times: user 4min 8s, sys: 100 ms, total: 4min 8s\n",
      "Wall time: 4min 8s\n"
     ]
    }
   ],
   "source": [
    "%%time\n",
    "#Tuning rougher model hyperparameters\n",
    "\n",
    "\n",
    "param_grid = {\n",
    "    'n_estimators': [50, 100]     \n",
    "}\n",
    "\n",
    "#Create the RandomForestRegressor model\n",
    "model1_r = RandomForestRegressor(random_state=1)\n",
    "\n",
    "#Create the GridSearchCV object\n",
    "grid_search = GridSearchCV(estimator=model1_r, param_grid=param_grid, cv=2, n_jobs=-1, scoring='neg_mean_squared_error')\n",
    "\n",
    "#Fit the grid search to your data\n",
    "grid_search.fit(df_train_feat_r_scaled, df_train_targ_r) \n",
    "\n",
    "#Get the best parameters and best estimator\n",
    "best_params = grid_search.best_params_\n",
    "best_estimator = grid_search.best_estimator_\n",
    "\n",
    "#Print the best parameters and best score (negative mean squared error)\n",
    "print(\"Best Parameters:\", best_params)\n",
    "print(\"Best Negative Mean Squared Error:\", -grid_search.best_score_)"
   ]
  },
  {
   "cell_type": "code",
   "execution_count": null,
   "metadata": {},
   "outputs": [],
   "source": [
    "%%time\n",
    "#Tuning final model hyperparameters\n",
    "\n",
    "\n",
    "param_grid = {\n",
    "    'n_estimators': [50, 100]   \n",
    "}\n",
    "\n",
    "#Create the RandomForestRegressor model\n",
    "model1 = RandomForestRegressor(random_state=1)\n",
    "\n",
    "#Create the GridSearchCV object\n",
    "grid_search = GridSearchCV(estimator=model1, param_grid=param_grid, cv=2, n_jobs=-1, scoring='neg_mean_squared_error')\n",
    "\n",
    "#Fit the grid search to your data\n",
    "grid_search.fit(df_train_feat_scaled, df_train_targ) \n",
    "\n",
    "#Get the best parameters and best estimator\n",
    "best_params = grid_search.best_params_\n",
    "best_estimator = grid_search.best_estimator_\n",
    "\n",
    "#Print the best parameters and best score (negative mean squared error)\n",
    "print(\"Best Parameters:\", best_params)\n",
    "print(\"Best Negative Mean Squared Error:\", -grid_search.best_score_)"
   ]
  },
  {
   "cell_type": "markdown",
   "metadata": {},
   "source": [
    "We have tuned only 1 hyperparameter due to time constraints. These can be further tuned as needed.\n",
    "\n",
    "**Final Product**\n",
    "\n",
    "- For rougher output recovery prediction, use `model1_r`\n",
    "- For final output recovery, use `model1`\n",
    "\n",
    "**Key Takeaways**\n",
    "\n",
    "Our model can predict how much gold is going to be recovered based on the parameters set for the machines before placing the gold ore inside the extractor, with only about 8% error in the recovery value.\n",
    "\n",
    "**With our model, the customer can fine-tune their extractor parameters to maximize gold extraction.**"
   ]
  }
 ],
 "metadata": {
  "kernelspec": {
   "display_name": "Python 3 (ipykernel)",
   "language": "python",
   "name": "python3"
  },
  "language_info": {
   "codemirror_mode": {
    "name": "ipython",
    "version": 3
   },
   "file_extension": ".py",
   "mimetype": "text/x-python",
   "name": "python",
   "nbconvert_exporter": "python",
   "pygments_lexer": "ipython3",
   "version": "3.10.9"
  },
  "toc": {
   "base_numbering": 1,
   "nav_menu": {},
   "number_sections": true,
   "sideBar": true,
   "skip_h1_title": true,
   "title_cell": "Table of Contents",
   "title_sidebar": "Contents",
   "toc_cell": false,
   "toc_position": {},
   "toc_section_display": true,
   "toc_window_display": false
  }
 },
 "nbformat": 4,
 "nbformat_minor": 2
}
