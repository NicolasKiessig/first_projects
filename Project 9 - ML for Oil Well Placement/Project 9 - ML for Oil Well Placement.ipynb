{
 "cells": [
  {
   "cell_type": "markdown",
   "id": "e7b9d6c2",
   "metadata": {},
   "source": [
    "# Project Objective\n",
    "\n",
    "**Context**: The company is looking at a few regions to start new oil wells.\n",
    "\n",
    "**Objective**: Our objective is to find the most lucrative region for the new oil wells. For that, we'll build a Machine Learning model that can predict the volume of the reserves in the oil wells.\n",
    "\n",
    "**Data Description**\n",
    "\n",
    "`geo_data_0, 1 and 2` - datasets, each representing a different region.\n",
    " \n",
    "`id` - unique oil well identifier.\n",
    "\n",
    "`f0, f1, f2` - oil well characteristics.\n",
    "\n",
    "`product` - volume of reserves in the oil well (thousands of barrels).\n",
    "\n",
    "**Overall Conditions**:\n",
    " - We'll use a linear regression model to train the machine.\n",
    " \n",
    " - When a region is studied, 500 points are analysed and the best 200 are selected to calculate profits.\n",
    " \n",
    " - The budget we have to develop 200 oil wells is USD 100M.\n",
    " \n",
    " - One oil barrel brings USD 4.5 in revenues. One unit of product brings USD 4.5k (1 unit = 1k barrels).\n",
    " \n",
    " - We'll filter out any regions with a loss risk higher than 2.5%, and between the ones left, we'll pick the one with the highest average profit."
   ]
  },
  {
   "cell_type": "markdown",
   "id": "ac4c9f12",
   "metadata": {},
   "source": [
    "## 1 Loading Data and Libraries, preparing data\n",
    "\n",
    "In this section of the project, we'll:\n",
    " - load the necessary libraries \n",
    " - and also load and prepare the data\n",
    "     - see if there is missing data, invalid data, \n",
    "     - and also encode categoricals, remove unnecessary columns, scale numericals\n",
    "     \n",
    "We'll basically get the dataset ready for our ML training."
   ]
  },
  {
   "cell_type": "code",
   "execution_count": 1,
   "id": "f8bf886a",
   "metadata": {},
   "outputs": [],
   "source": [
    "#loading libraries\n",
    "\n",
    "import pandas as pd\n",
    "import numpy as np\n",
    "from numpy.random import RandomState\n",
    "import matplotlib.pyplot as plt\n",
    "import math\n",
    "from scipy import stats as st\n",
    "\n",
    "from sklearn.model_selection import train_test_split\n",
    "from sklearn.linear_model import LinearRegression\n",
    "from sklearn.metrics import r2_score, mean_absolute_error\n",
    "\n"
   ]
  },
  {
   "cell_type": "code",
   "execution_count": 2,
   "id": "18b9ffdf",
   "metadata": {},
   "outputs": [],
   "source": [
    "#loading data\n",
    "\n",
    "#geo_data_0 = pd.read_csv(r'C:\\temptripleten\\geo_data_0.csv')\n",
    "#geo_data_1 = pd.read_csv(r'C:\\temptripleten\\geo_data_1.csv')\n",
    "#geo_data_2 = pd.read_csv(r'C:\\temptripleten\\geo_data_2.csv')\n",
    "\n",
    "geo_data_0 = pd.read_csv(r'/datasets/geo_data_0.csv')\n",
    "geo_data_1 = pd.read_csv(r'/datasets/geo_data_1.csv')\n",
    "geo_data_2 = pd.read_csv(r'/datasets/geo_data_2.csv')"
   ]
  },
  {
   "cell_type": "code",
   "execution_count": 3,
   "id": "5a1ebf7a",
   "metadata": {
    "scrolled": true
   },
   "outputs": [
    {
     "name": "stdout",
     "output_type": "stream",
     "text": [
      "geo_data_0\n"
     ]
    },
    {
     "data": {
      "text/html": [
       "<div>\n",
       "<style scoped>\n",
       "    .dataframe tbody tr th:only-of-type {\n",
       "        vertical-align: middle;\n",
       "    }\n",
       "\n",
       "    .dataframe tbody tr th {\n",
       "        vertical-align: top;\n",
       "    }\n",
       "\n",
       "    .dataframe thead th {\n",
       "        text-align: right;\n",
       "    }\n",
       "</style>\n",
       "<table border=\"1\" class=\"dataframe\">\n",
       "  <thead>\n",
       "    <tr style=\"text-align: right;\">\n",
       "      <th></th>\n",
       "      <th>id</th>\n",
       "      <th>f0</th>\n",
       "      <th>f1</th>\n",
       "      <th>f2</th>\n",
       "      <th>product</th>\n",
       "    </tr>\n",
       "  </thead>\n",
       "  <tbody>\n",
       "    <tr>\n",
       "      <th>0</th>\n",
       "      <td>txEyH</td>\n",
       "      <td>0.705745</td>\n",
       "      <td>-0.497823</td>\n",
       "      <td>1.221170</td>\n",
       "      <td>105.280062</td>\n",
       "    </tr>\n",
       "    <tr>\n",
       "      <th>1</th>\n",
       "      <td>2acmU</td>\n",
       "      <td>1.334711</td>\n",
       "      <td>-0.340164</td>\n",
       "      <td>4.365080</td>\n",
       "      <td>73.037750</td>\n",
       "    </tr>\n",
       "    <tr>\n",
       "      <th>2</th>\n",
       "      <td>409Wp</td>\n",
       "      <td>1.022732</td>\n",
       "      <td>0.151990</td>\n",
       "      <td>1.419926</td>\n",
       "      <td>85.265647</td>\n",
       "    </tr>\n",
       "  </tbody>\n",
       "</table>\n",
       "</div>"
      ],
      "text/plain": [
       "      id        f0        f1        f2     product\n",
       "0  txEyH  0.705745 -0.497823  1.221170  105.280062\n",
       "1  2acmU  1.334711 -0.340164  4.365080   73.037750\n",
       "2  409Wp  1.022732  0.151990  1.419926   85.265647"
      ]
     },
     "metadata": {},
     "output_type": "display_data"
    },
    {
     "name": "stdout",
     "output_type": "stream",
     "text": [
      "<class 'pandas.core.frame.DataFrame'>\n",
      "RangeIndex: 100000 entries, 0 to 99999\n",
      "Data columns (total 5 columns):\n",
      " #   Column   Non-Null Count   Dtype  \n",
      "---  ------   --------------   -----  \n",
      " 0   id       100000 non-null  object \n",
      " 1   f0       100000 non-null  float64\n",
      " 2   f1       100000 non-null  float64\n",
      " 3   f2       100000 non-null  float64\n",
      " 4   product  100000 non-null  float64\n",
      "dtypes: float64(4), object(1)\n",
      "memory usage: 3.8+ MB\n"
     ]
    },
    {
     "data": {
      "text/plain": [
       "None"
      ]
     },
     "metadata": {},
     "output_type": "display_data"
    },
    {
     "data": {
      "text/html": [
       "<div>\n",
       "<style scoped>\n",
       "    .dataframe tbody tr th:only-of-type {\n",
       "        vertical-align: middle;\n",
       "    }\n",
       "\n",
       "    .dataframe tbody tr th {\n",
       "        vertical-align: top;\n",
       "    }\n",
       "\n",
       "    .dataframe thead th {\n",
       "        text-align: right;\n",
       "    }\n",
       "</style>\n",
       "<table border=\"1\" class=\"dataframe\">\n",
       "  <thead>\n",
       "    <tr style=\"text-align: right;\">\n",
       "      <th></th>\n",
       "      <th>f0</th>\n",
       "      <th>f1</th>\n",
       "      <th>f2</th>\n",
       "      <th>product</th>\n",
       "    </tr>\n",
       "  </thead>\n",
       "  <tbody>\n",
       "    <tr>\n",
       "      <th>count</th>\n",
       "      <td>100000.000000</td>\n",
       "      <td>100000.000000</td>\n",
       "      <td>100000.000000</td>\n",
       "      <td>100000.000000</td>\n",
       "    </tr>\n",
       "    <tr>\n",
       "      <th>mean</th>\n",
       "      <td>0.500419</td>\n",
       "      <td>0.250143</td>\n",
       "      <td>2.502647</td>\n",
       "      <td>92.500000</td>\n",
       "    </tr>\n",
       "    <tr>\n",
       "      <th>std</th>\n",
       "      <td>0.871832</td>\n",
       "      <td>0.504433</td>\n",
       "      <td>3.248248</td>\n",
       "      <td>44.288691</td>\n",
       "    </tr>\n",
       "    <tr>\n",
       "      <th>min</th>\n",
       "      <td>-1.408605</td>\n",
       "      <td>-0.848218</td>\n",
       "      <td>-12.088328</td>\n",
       "      <td>0.000000</td>\n",
       "    </tr>\n",
       "    <tr>\n",
       "      <th>25%</th>\n",
       "      <td>-0.072580</td>\n",
       "      <td>-0.200881</td>\n",
       "      <td>0.287748</td>\n",
       "      <td>56.497507</td>\n",
       "    </tr>\n",
       "    <tr>\n",
       "      <th>50%</th>\n",
       "      <td>0.502360</td>\n",
       "      <td>0.250252</td>\n",
       "      <td>2.515969</td>\n",
       "      <td>91.849972</td>\n",
       "    </tr>\n",
       "    <tr>\n",
       "      <th>75%</th>\n",
       "      <td>1.073581</td>\n",
       "      <td>0.700646</td>\n",
       "      <td>4.715088</td>\n",
       "      <td>128.564089</td>\n",
       "    </tr>\n",
       "    <tr>\n",
       "      <th>max</th>\n",
       "      <td>2.362331</td>\n",
       "      <td>1.343769</td>\n",
       "      <td>16.003790</td>\n",
       "      <td>185.364347</td>\n",
       "    </tr>\n",
       "  </tbody>\n",
       "</table>\n",
       "</div>"
      ],
      "text/plain": [
       "                  f0             f1             f2        product\n",
       "count  100000.000000  100000.000000  100000.000000  100000.000000\n",
       "mean        0.500419       0.250143       2.502647      92.500000\n",
       "std         0.871832       0.504433       3.248248      44.288691\n",
       "min        -1.408605      -0.848218     -12.088328       0.000000\n",
       "25%        -0.072580      -0.200881       0.287748      56.497507\n",
       "50%         0.502360       0.250252       2.515969      91.849972\n",
       "75%         1.073581       0.700646       4.715088     128.564089\n",
       "max         2.362331       1.343769      16.003790     185.364347"
      ]
     },
     "metadata": {},
     "output_type": "display_data"
    },
    {
     "name": "stdout",
     "output_type": "stream",
     "text": [
      "geo_data_1\n"
     ]
    },
    {
     "data": {
      "text/html": [
       "<div>\n",
       "<style scoped>\n",
       "    .dataframe tbody tr th:only-of-type {\n",
       "        vertical-align: middle;\n",
       "    }\n",
       "\n",
       "    .dataframe tbody tr th {\n",
       "        vertical-align: top;\n",
       "    }\n",
       "\n",
       "    .dataframe thead th {\n",
       "        text-align: right;\n",
       "    }\n",
       "</style>\n",
       "<table border=\"1\" class=\"dataframe\">\n",
       "  <thead>\n",
       "    <tr style=\"text-align: right;\">\n",
       "      <th></th>\n",
       "      <th>id</th>\n",
       "      <th>f0</th>\n",
       "      <th>f1</th>\n",
       "      <th>f2</th>\n",
       "      <th>product</th>\n",
       "    </tr>\n",
       "  </thead>\n",
       "  <tbody>\n",
       "    <tr>\n",
       "      <th>0</th>\n",
       "      <td>kBEdx</td>\n",
       "      <td>-15.001348</td>\n",
       "      <td>-8.276000</td>\n",
       "      <td>-0.005876</td>\n",
       "      <td>3.179103</td>\n",
       "    </tr>\n",
       "    <tr>\n",
       "      <th>1</th>\n",
       "      <td>62mP7</td>\n",
       "      <td>14.272088</td>\n",
       "      <td>-3.475083</td>\n",
       "      <td>0.999183</td>\n",
       "      <td>26.953261</td>\n",
       "    </tr>\n",
       "    <tr>\n",
       "      <th>2</th>\n",
       "      <td>vyE1P</td>\n",
       "      <td>6.263187</td>\n",
       "      <td>-5.948386</td>\n",
       "      <td>5.001160</td>\n",
       "      <td>134.766305</td>\n",
       "    </tr>\n",
       "  </tbody>\n",
       "</table>\n",
       "</div>"
      ],
      "text/plain": [
       "      id         f0        f1        f2     product\n",
       "0  kBEdx -15.001348 -8.276000 -0.005876    3.179103\n",
       "1  62mP7  14.272088 -3.475083  0.999183   26.953261\n",
       "2  vyE1P   6.263187 -5.948386  5.001160  134.766305"
      ]
     },
     "metadata": {},
     "output_type": "display_data"
    },
    {
     "name": "stdout",
     "output_type": "stream",
     "text": [
      "<class 'pandas.core.frame.DataFrame'>\n",
      "RangeIndex: 100000 entries, 0 to 99999\n",
      "Data columns (total 5 columns):\n",
      " #   Column   Non-Null Count   Dtype  \n",
      "---  ------   --------------   -----  \n",
      " 0   id       100000 non-null  object \n",
      " 1   f0       100000 non-null  float64\n",
      " 2   f1       100000 non-null  float64\n",
      " 3   f2       100000 non-null  float64\n",
      " 4   product  100000 non-null  float64\n",
      "dtypes: float64(4), object(1)\n",
      "memory usage: 3.8+ MB\n"
     ]
    },
    {
     "data": {
      "text/plain": [
       "None"
      ]
     },
     "metadata": {},
     "output_type": "display_data"
    },
    {
     "data": {
      "text/html": [
       "<div>\n",
       "<style scoped>\n",
       "    .dataframe tbody tr th:only-of-type {\n",
       "        vertical-align: middle;\n",
       "    }\n",
       "\n",
       "    .dataframe tbody tr th {\n",
       "        vertical-align: top;\n",
       "    }\n",
       "\n",
       "    .dataframe thead th {\n",
       "        text-align: right;\n",
       "    }\n",
       "</style>\n",
       "<table border=\"1\" class=\"dataframe\">\n",
       "  <thead>\n",
       "    <tr style=\"text-align: right;\">\n",
       "      <th></th>\n",
       "      <th>f0</th>\n",
       "      <th>f1</th>\n",
       "      <th>f2</th>\n",
       "      <th>product</th>\n",
       "    </tr>\n",
       "  </thead>\n",
       "  <tbody>\n",
       "    <tr>\n",
       "      <th>count</th>\n",
       "      <td>100000.000000</td>\n",
       "      <td>100000.000000</td>\n",
       "      <td>100000.000000</td>\n",
       "      <td>100000.000000</td>\n",
       "    </tr>\n",
       "    <tr>\n",
       "      <th>mean</th>\n",
       "      <td>1.141296</td>\n",
       "      <td>-4.796579</td>\n",
       "      <td>2.494541</td>\n",
       "      <td>68.825000</td>\n",
       "    </tr>\n",
       "    <tr>\n",
       "      <th>std</th>\n",
       "      <td>8.965932</td>\n",
       "      <td>5.119872</td>\n",
       "      <td>1.703572</td>\n",
       "      <td>45.944423</td>\n",
       "    </tr>\n",
       "    <tr>\n",
       "      <th>min</th>\n",
       "      <td>-31.609576</td>\n",
       "      <td>-26.358598</td>\n",
       "      <td>-0.018144</td>\n",
       "      <td>0.000000</td>\n",
       "    </tr>\n",
       "    <tr>\n",
       "      <th>25%</th>\n",
       "      <td>-6.298551</td>\n",
       "      <td>-8.267985</td>\n",
       "      <td>1.000021</td>\n",
       "      <td>26.953261</td>\n",
       "    </tr>\n",
       "    <tr>\n",
       "      <th>50%</th>\n",
       "      <td>1.153055</td>\n",
       "      <td>-4.813172</td>\n",
       "      <td>2.011479</td>\n",
       "      <td>57.085625</td>\n",
       "    </tr>\n",
       "    <tr>\n",
       "      <th>75%</th>\n",
       "      <td>8.621015</td>\n",
       "      <td>-1.332816</td>\n",
       "      <td>3.999904</td>\n",
       "      <td>107.813044</td>\n",
       "    </tr>\n",
       "    <tr>\n",
       "      <th>max</th>\n",
       "      <td>29.421755</td>\n",
       "      <td>18.734063</td>\n",
       "      <td>5.019721</td>\n",
       "      <td>137.945408</td>\n",
       "    </tr>\n",
       "  </tbody>\n",
       "</table>\n",
       "</div>"
      ],
      "text/plain": [
       "                  f0             f1             f2        product\n",
       "count  100000.000000  100000.000000  100000.000000  100000.000000\n",
       "mean        1.141296      -4.796579       2.494541      68.825000\n",
       "std         8.965932       5.119872       1.703572      45.944423\n",
       "min       -31.609576     -26.358598      -0.018144       0.000000\n",
       "25%        -6.298551      -8.267985       1.000021      26.953261\n",
       "50%         1.153055      -4.813172       2.011479      57.085625\n",
       "75%         8.621015      -1.332816       3.999904     107.813044\n",
       "max        29.421755      18.734063       5.019721     137.945408"
      ]
     },
     "metadata": {},
     "output_type": "display_data"
    },
    {
     "name": "stdout",
     "output_type": "stream",
     "text": [
      "geo_data_2\n"
     ]
    },
    {
     "data": {
      "text/html": [
       "<div>\n",
       "<style scoped>\n",
       "    .dataframe tbody tr th:only-of-type {\n",
       "        vertical-align: middle;\n",
       "    }\n",
       "\n",
       "    .dataframe tbody tr th {\n",
       "        vertical-align: top;\n",
       "    }\n",
       "\n",
       "    .dataframe thead th {\n",
       "        text-align: right;\n",
       "    }\n",
       "</style>\n",
       "<table border=\"1\" class=\"dataframe\">\n",
       "  <thead>\n",
       "    <tr style=\"text-align: right;\">\n",
       "      <th></th>\n",
       "      <th>id</th>\n",
       "      <th>f0</th>\n",
       "      <th>f1</th>\n",
       "      <th>f2</th>\n",
       "      <th>product</th>\n",
       "    </tr>\n",
       "  </thead>\n",
       "  <tbody>\n",
       "    <tr>\n",
       "      <th>0</th>\n",
       "      <td>fwXo0</td>\n",
       "      <td>-1.146987</td>\n",
       "      <td>0.963328</td>\n",
       "      <td>-0.828965</td>\n",
       "      <td>27.758673</td>\n",
       "    </tr>\n",
       "    <tr>\n",
       "      <th>1</th>\n",
       "      <td>WJtFt</td>\n",
       "      <td>0.262778</td>\n",
       "      <td>0.269839</td>\n",
       "      <td>-2.530187</td>\n",
       "      <td>56.069697</td>\n",
       "    </tr>\n",
       "    <tr>\n",
       "      <th>2</th>\n",
       "      <td>ovLUW</td>\n",
       "      <td>0.194587</td>\n",
       "      <td>0.289035</td>\n",
       "      <td>-5.586433</td>\n",
       "      <td>62.871910</td>\n",
       "    </tr>\n",
       "  </tbody>\n",
       "</table>\n",
       "</div>"
      ],
      "text/plain": [
       "      id        f0        f1        f2    product\n",
       "0  fwXo0 -1.146987  0.963328 -0.828965  27.758673\n",
       "1  WJtFt  0.262778  0.269839 -2.530187  56.069697\n",
       "2  ovLUW  0.194587  0.289035 -5.586433  62.871910"
      ]
     },
     "metadata": {},
     "output_type": "display_data"
    },
    {
     "name": "stdout",
     "output_type": "stream",
     "text": [
      "<class 'pandas.core.frame.DataFrame'>\n",
      "RangeIndex: 100000 entries, 0 to 99999\n",
      "Data columns (total 5 columns):\n",
      " #   Column   Non-Null Count   Dtype  \n",
      "---  ------   --------------   -----  \n",
      " 0   id       100000 non-null  object \n",
      " 1   f0       100000 non-null  float64\n",
      " 2   f1       100000 non-null  float64\n",
      " 3   f2       100000 non-null  float64\n",
      " 4   product  100000 non-null  float64\n",
      "dtypes: float64(4), object(1)\n",
      "memory usage: 3.8+ MB\n"
     ]
    },
    {
     "data": {
      "text/plain": [
       "None"
      ]
     },
     "metadata": {},
     "output_type": "display_data"
    },
    {
     "data": {
      "text/html": [
       "<div>\n",
       "<style scoped>\n",
       "    .dataframe tbody tr th:only-of-type {\n",
       "        vertical-align: middle;\n",
       "    }\n",
       "\n",
       "    .dataframe tbody tr th {\n",
       "        vertical-align: top;\n",
       "    }\n",
       "\n",
       "    .dataframe thead th {\n",
       "        text-align: right;\n",
       "    }\n",
       "</style>\n",
       "<table border=\"1\" class=\"dataframe\">\n",
       "  <thead>\n",
       "    <tr style=\"text-align: right;\">\n",
       "      <th></th>\n",
       "      <th>f0</th>\n",
       "      <th>f1</th>\n",
       "      <th>f2</th>\n",
       "      <th>product</th>\n",
       "    </tr>\n",
       "  </thead>\n",
       "  <tbody>\n",
       "    <tr>\n",
       "      <th>count</th>\n",
       "      <td>100000.000000</td>\n",
       "      <td>100000.000000</td>\n",
       "      <td>100000.000000</td>\n",
       "      <td>100000.000000</td>\n",
       "    </tr>\n",
       "    <tr>\n",
       "      <th>mean</th>\n",
       "      <td>0.002023</td>\n",
       "      <td>-0.002081</td>\n",
       "      <td>2.495128</td>\n",
       "      <td>95.000000</td>\n",
       "    </tr>\n",
       "    <tr>\n",
       "      <th>std</th>\n",
       "      <td>1.732045</td>\n",
       "      <td>1.730417</td>\n",
       "      <td>3.473445</td>\n",
       "      <td>44.749921</td>\n",
       "    </tr>\n",
       "    <tr>\n",
       "      <th>min</th>\n",
       "      <td>-8.760004</td>\n",
       "      <td>-7.084020</td>\n",
       "      <td>-11.970335</td>\n",
       "      <td>0.000000</td>\n",
       "    </tr>\n",
       "    <tr>\n",
       "      <th>25%</th>\n",
       "      <td>-1.162288</td>\n",
       "      <td>-1.174820</td>\n",
       "      <td>0.130359</td>\n",
       "      <td>59.450441</td>\n",
       "    </tr>\n",
       "    <tr>\n",
       "      <th>50%</th>\n",
       "      <td>0.009424</td>\n",
       "      <td>-0.009482</td>\n",
       "      <td>2.484236</td>\n",
       "      <td>94.925613</td>\n",
       "    </tr>\n",
       "    <tr>\n",
       "      <th>75%</th>\n",
       "      <td>1.158535</td>\n",
       "      <td>1.163678</td>\n",
       "      <td>4.858794</td>\n",
       "      <td>130.595027</td>\n",
       "    </tr>\n",
       "    <tr>\n",
       "      <th>max</th>\n",
       "      <td>7.238262</td>\n",
       "      <td>7.844801</td>\n",
       "      <td>16.739402</td>\n",
       "      <td>190.029838</td>\n",
       "    </tr>\n",
       "  </tbody>\n",
       "</table>\n",
       "</div>"
      ],
      "text/plain": [
       "                  f0             f1             f2        product\n",
       "count  100000.000000  100000.000000  100000.000000  100000.000000\n",
       "mean        0.002023      -0.002081       2.495128      95.000000\n",
       "std         1.732045       1.730417       3.473445      44.749921\n",
       "min        -8.760004      -7.084020     -11.970335       0.000000\n",
       "25%        -1.162288      -1.174820       0.130359      59.450441\n",
       "50%         0.009424      -0.009482       2.484236      94.925613\n",
       "75%         1.158535       1.163678       4.858794     130.595027\n",
       "max         7.238262       7.844801      16.739402     190.029838"
      ]
     },
     "metadata": {},
     "output_type": "display_data"
    }
   ],
   "source": [
    "#quick snapshot of the datasets\n",
    "\n",
    "dfs_list_names = ['geo_data_0', 'geo_data_1', 'geo_data_2']\n",
    "dfs_list = [geo_data_0, geo_data_1, geo_data_2]\n",
    "\n",
    "for df_name, df in zip(dfs_list_names, dfs_list):\n",
    "    print(df_name)\n",
    "    display(df.head(3))\n",
    "    display(df.info())\n",
    "    display(df.describe())"
   ]
  },
  {
   "cell_type": "markdown",
   "id": "e46564ce",
   "metadata": {},
   "source": [
    "**Summary**\n",
    "\n",
    "It seems the datasets are in order - no missing values, correct data types for the columns, and the values seem to be scaled already, for the features (f0, f1, f2).\n",
    "\n",
    "We'll proceed by splitting the dataset between features and targets, then by training and testing."
   ]
  },
  {
   "cell_type": "markdown",
   "id": "26814123",
   "metadata": {},
   "source": [
    "## 2 Creating and Testing the Model\n",
    "\n",
    "In this section, we aim to achieve the following:\n",
    "\n",
    " 1. Split the datasets between features and targets,\n",
    " \n",
    " 2. Split the datasets between training and testing/validation (75%, 25%),\n",
    " \n",
    " 3. Train the model and make predictions on the test datasets,\n",
    " \n",
    " 4. Print the average product volume predicted and the model's RMSE,\n",
    " \n",
    " 5. Analyse Results.\n",
    " \n",
    "Since we'll repeat the same processes for all 3 datasets, we'll produce functions during the modeling of the first dataset, so we can apply these funcions on the other datasets and get the outputs faster."
   ]
  },
  {
   "cell_type": "code",
   "execution_count": 4,
   "id": "5ce28c2c",
   "metadata": {},
   "outputs": [],
   "source": [
    "#Split dataset between features and targets, creating function\n",
    "\n",
    "#We'll also drop the id column of the datasets, as it'll not help the model in any way.\n",
    "\n",
    "\n",
    "#FUNCTION 1 - splits dataset between features and target, drops id column, splits dataset between training and testing\n",
    "def features_target_split(df, t_size = 0.25):\n",
    "    \n",
    "    #features target split\n",
    "    df = df.drop('id', axis = 1)\n",
    "    df_feat = df.drop('product', axis = 1)\n",
    "    df_target = df['product']\n",
    "    \n",
    "    #training testing split\n",
    "    df_feat_train, df_feat_test, df_target_train, df_target_test = \\\n",
    "    train_test_split(df_feat, df_target, test_size = t_size, random_state = 1)\n",
    "    \n",
    "    return df_feat_train, df_feat_test, df_target_train, df_target_test"
   ]
  },
  {
   "cell_type": "code",
   "execution_count": 5,
   "id": "f06a81cd",
   "metadata": {},
   "outputs": [],
   "source": [
    "#FUNCTION 2 - Training linear regression model\n",
    "\n",
    "def training_model(df_feat_train, df_feat_test, df_target_train, df_target_test):\n",
    "    \n",
    "    #training model\n",
    "    model = LinearRegression()\n",
    "    model.fit(df_feat_train, df_target_train)\n",
    "    \n",
    "    #testting model and looking at its scores\n",
    "    predictions = model.predict(df_feat_test)\n",
    "    r2 = r2_score(df_target_test, predictions)\n",
    "    rmse = mean_absolute_error(df_target_test, predictions) * 0.5\n",
    "    avg_pred_vol = predictions.mean()\n",
    "    predictions = pd.Series(predictions)\n",
    "    \n",
    "    return r2, rmse, avg_pred_vol, predictions"
   ]
  },
  {
   "cell_type": "code",
   "execution_count": 6,
   "id": "6178e327",
   "metadata": {},
   "outputs": [],
   "source": [
    "def output_model_results(r2, rmse, avg_pred_vol):\n",
    "        print('R2:', r2)\n",
    "        print('RMSE:', rmse)\n",
    "        print('Avg Predicted Volume:', avg_pred_vol)\n",
    "        print()\n",
    "        return None"
   ]
  },
  {
   "cell_type": "code",
   "execution_count": 7,
   "id": "3032000d",
   "metadata": {},
   "outputs": [],
   "source": [
    "#Generating datasets for models - Function 1\n",
    "\n",
    "#geo_data_0\n",
    "geo_0_feat_train, geo_0_feat_test, geo_0_target_train, geo_0_target_test = features_target_split(geo_data_0)\n",
    "\n",
    "#geo_data_1\n",
    "geo_1_feat_train, geo_1_feat_test, geo_1_target_train, geo_1_target_test = features_target_split(geo_data_1)\n",
    "\n",
    "#geo_data_2\n",
    "geo_2_feat_train, geo_2_feat_test, geo_2_target_train, geo_2_target_test = features_target_split(geo_data_2)"
   ]
  },
  {
   "cell_type": "code",
   "execution_count": 8,
   "id": "08aa3461",
   "metadata": {},
   "outputs": [],
   "source": [
    "#Generating models - Function 2\n",
    "\n",
    "#Geo0\n",
    "geo0_R2, geo0_RMSE, geo0_avg_pred_vol, geo0_predictions = \\\n",
    "training_model(geo_0_feat_train, geo_0_feat_test, geo_0_target_train, geo_0_target_test)"
   ]
  },
  {
   "cell_type": "code",
   "execution_count": 9,
   "id": "65d57eed",
   "metadata": {},
   "outputs": [],
   "source": [
    "#Geo1\n",
    "geo1_R2, geo1_RMSE, geo1_avg_pred_vol, geo1_predictions = \\\n",
    "training_model(geo_1_feat_train, geo_1_feat_test, geo_1_target_train, geo_1_target_test)"
   ]
  },
  {
   "cell_type": "code",
   "execution_count": 10,
   "id": "84c82b52",
   "metadata": {},
   "outputs": [],
   "source": [
    "#Geo2\n",
    "geo2_R2, geo2_RMSE, geo2_avg_pred_vol, geo2_predictions = \\\n",
    "training_model(geo_2_feat_train, geo_2_feat_test, geo_2_target_train, geo_2_target_test)"
   ]
  },
  {
   "cell_type": "code",
   "execution_count": 11,
   "id": "4ae84057",
   "metadata": {
    "scrolled": true
   },
   "outputs": [
    {
     "name": "stdout",
     "output_type": "stream",
     "text": [
      "GEO_0\n",
      "R2: 0.27728067218414654\n",
      "RMSE: 15.540091972549451\n",
      "Avg Predicted Volume: 92.49262459838863\n",
      "\n",
      "GEO_1\n",
      "R2: 0.9996221352766932\n",
      "RMSE: 0.36018141262024655\n",
      "Avg Predicted Volume: 69.12040524285558\n",
      "\n",
      "GEO_2\n",
      "R2: 0.20003372664683905\n",
      "RMSE: 16.32527519498942\n",
      "Avg Predicted Volume: 94.9568304858529\n",
      "\n"
     ]
    }
   ],
   "source": [
    "print('GEO_0')\n",
    "output_model_results(geo0_R2, geo0_RMSE, geo0_avg_pred_vol)\n",
    "print('GEO_1')\n",
    "output_model_results(geo1_R2, geo1_RMSE, geo1_avg_pred_vol)\n",
    "print('GEO_2')\n",
    "output_model_results(geo2_R2, geo2_RMSE, geo2_avg_pred_vol)"
   ]
  },
  {
   "cell_type": "markdown",
   "id": "2202787f",
   "metadata": {},
   "source": [
    "All average predicted volumes are below the needed 112 units to be profitable, but here we are considering all of the oil wells in the regions, from the test dataset. Let's select only the top 200 of each, and check those averages."
   ]
  },
  {
   "cell_type": "code",
   "execution_count": 12,
   "id": "30c13a9b",
   "metadata": {
    "scrolled": true
   },
   "outputs": [
    {
     "name": "stdout",
     "output_type": "stream",
     "text": [
      "Geo0 Top 200 mean: 155\n",
      "Geo1 Top 200 mean: 139\n",
      "Geo2 Top 200 mean: 149\n"
     ]
    }
   ],
   "source": [
    "geo0_200 = sorted(geo0_predictions, reverse = True)\n",
    "geo0_200 = np.mean(geo0_200[0:200])\n",
    "\n",
    "print('Geo0 Top 200 mean:', round(geo0_200))\n",
    "\n",
    "geo1_200 = sorted(geo1_predictions, reverse = True)\n",
    "geo1_200 = np.mean(geo1_200[0:200])\n",
    "\n",
    "print('Geo1 Top 200 mean:', round(geo1_200))\n",
    "\n",
    "geo2_200 = sorted(geo2_predictions, reverse = True)\n",
    "geo2_200 = np.mean(geo2_200[0:200])\n",
    "\n",
    "print('Geo2 Top 200 mean:', round(geo2_200))"
   ]
  },
  {
   "cell_type": "markdown",
   "id": "46936d0a",
   "metadata": {},
   "source": [
    "Now it is a bit of a different picture indeed - all averages are above the minimum for profit."
   ]
  },
  {
   "cell_type": "markdown",
   "id": "6688f410",
   "metadata": {},
   "source": [
    "**Summary - Analysing Results**\n",
    "\n",
    "Ranking the models based on their scores, we have the following:\n",
    "1. GEO_1, highest R2 and lowest RMSE\n",
    "2. GEO_0, second highest R2, second lowest RMSE\n",
    "3. GEO_2, lowest R2, highest RMSE\n",
    "\n",
    "Nonetheless, all models had an R2 score higher than 0, which means they are all better than average at making product predictions.\n",
    "\n",
    "Then, based on the average predicted volume of each region, GEO_1 would be out, and the contest would be between GEO_0 and GEO_1. Let's move on to the profits calculation of the regions."
   ]
  },
  {
   "cell_type": "markdown",
   "id": "14e99eb1",
   "metadata": {},
   "source": [
    "## 3 Profit Calculation\n",
    "\n",
    "With USD 100M invested in 200 oil wells, each oil well needs to produce around 111 units of product to make it profitable -> 100M/200 = 500k -> 500k/4.5k = 111 units."
   ]
  },
  {
   "cell_type": "code",
   "execution_count": 13,
   "id": "9746f55f",
   "metadata": {},
   "outputs": [
    {
     "name": "stdout",
     "output_type": "stream",
     "text": [
      "Minimum units needed of produt reserve for the oil well to be profitable: 112 units(k barrels)\n"
     ]
    }
   ],
   "source": [
    "#Setting profit variables\n",
    "\n",
    "\n",
    "budget = 100000000\n",
    "oil_wells_sel = 200\n",
    "unit_price = 4500\n",
    "\n",
    "#minimum units needed for profit\n",
    "min_units_profit = math.ceil(budget/oil_wells_sel/unit_price)\n",
    "cost_of_development = min_units_profit*unit_price\n",
    "print('Minimum units needed of produt reserve for the oil well to be profitable:', min_units_profit,'units(k barrels)')"
   ]
  },
  {
   "cell_type": "markdown",
   "id": "3e236e9a",
   "metadata": {},
   "source": [
    "Comparing the average predicted volume per oil well in each of the regions, all of them have on average less than the needed units to be profitable. But in this case, we are looking at all the oil wells, and we only aim to develop 200 of them. \n",
    "\n",
    "In the next section, we'll pick only the 200 oil wells per region with the highest predicted volume of product, and base our profit calculations on that. Let's get into it now."
   ]
  },
  {
   "cell_type": "markdown",
   "id": "73fb102e",
   "metadata": {},
   "source": [
    "## 4 Profit per region, Top 200 oil wells selection, Region selection\n",
    "\n",
    "Our goal here are as follows:\n",
    " - Create a function that calculates the predicted profit of a selected set of oil wells\n",
    " - Apply the function to the predicted values of each of the 3 regions, compare results\n",
    " - Present a suggestion based on this analysis\n",
    " \n",
    "After this, we'll explore the dataset a bit further, and use boostrapping to check the confidence interval for the profits of each region. Then, reassess the situation and select the region again."
   ]
  },
  {
   "cell_type": "code",
   "execution_count": 14,
   "id": "c0ab6143",
   "metadata": {},
   "outputs": [],
   "source": [
    "#FUNCTION 3 - Calculating profit per region, top 200 oil well selections\n",
    "#note: input for the function must be a pd.Series data type.\n",
    "\n",
    "def profit_calc(predicted_series):   \n",
    "    sorted_series = predicted_series.sort_values(ascending = False)\n",
    "    selected_wells = sorted_series[0:oil_wells_sel]\n",
    "    profit_per_well = selected_wells*unit_price - cost_of_development\n",
    "    total_profit = profit_per_well.sum()\n",
    "    avg_profit = profit_per_well.mean()\n",
    "    median_profit = profit_per_well.median()\n",
    "    ROI = total_profit/budget\n",
    "    \n",
    "    return total_profit, avg_profit, median_profit, ROI\n",
    "\n",
    "#Function to output the values of FUNCTION 3\n",
    "def profit_calc_report(total_profit, avg_profit, median_profit, ROI):\n",
    "    print('Total Profit in region, top', oil_wells_sel, 'oil wells:', round(total_profit))\n",
    "    print('Average Profit per well:', round(avg_profit))\n",
    "    print('Median Profit:', round(median_profit))\n",
    "    print('ROI in region:', round(ROI,3))\n",
    "    return None"
   ]
  },
  {
   "cell_type": "code",
   "execution_count": 15,
   "id": "04453498",
   "metadata": {},
   "outputs": [
    {
     "name": "stdout",
     "output_type": "stream",
     "text": [
      "\n",
      "geo_data_0\n",
      "Total Profit in region, top 200 oil wells: 38780887\n",
      "Average Profit per well: 193904\n",
      "Median Profit: 188658\n",
      "ROI in region: 0.388\n",
      "\n",
      "geo_data_1\n",
      "Total Profit in region, top 200 oil wells: 24119384\n",
      "Average Profit per well: 120597\n",
      "Median Profit: 120255\n",
      "ROI in region: 0.241\n",
      "\n",
      "geo_data_2\n",
      "Total Profit in region, top 200 oil wells: 33114315\n",
      "Average Profit per well: 165572\n",
      "Median Profit: 157298\n",
      "ROI in region: 0.331\n"
     ]
    }
   ],
   "source": [
    "predicted_series = [geo0_predictions, geo1_predictions, geo2_predictions]\n",
    "\n",
    "i = 0\n",
    "\n",
    "for series in predicted_series:\n",
    "    print()\n",
    "    print(dfs_list_names[i])\n",
    "    tp, avg_p, median_p, ROI = profit_calc(series)\n",
    "    profit_calc_report(tp, avg_p, median_p, ROI)\n",
    "    i += 1"
   ]
  },
  {
   "cell_type": "markdown",
   "id": "8c81e604",
   "metadata": {},
   "source": [
    "**Summary - Region Selection by Profit**\n",
    "\n",
    "The rank of regions by highest profit is as follows:\n",
    "1. Geodata 0\n",
    "2. Geodata 2\n",
    "3. Geodata 1\n",
    "\n",
    "Geodata 0 has the second best model, as measured by R2, and is the region with the highest predicted profits, with the highest ROI, average and median product when compared to the other regions.\n",
    "\n",
    "**Selected Region:** Based on the data above, we would select the region from **GeoData 0** to develop the oil wells, since it presents the highest ROI between the analyzed regions.\n",
    "\n",
    "Now, we'll use bootstrapping to determine the profit distribution for each region, and make our assessment more certain."
   ]
  },
  {
   "cell_type": "markdown",
   "id": "277bfad5",
   "metadata": {},
   "source": [
    "## 5 Bootstrapping, Profit distribution and loss risk for each region\n",
    "\n",
    "This is the final part of the project, where the final recommendation is to be issued.\n",
    "\n",
    "Main objectives here are:\n",
    " - Boostrap the datasets we have to 1000 samples, each with the 200 oil wells per region.\n",
    " - Determine the average profit, the 95% confidence interval and the risk of loss.\n",
    " - Present results, suggest region for investment and reason for the choice."
   ]
  },
  {
   "cell_type": "code",
   "execution_count": 16,
   "id": "ef237b45",
   "metadata": {},
   "outputs": [],
   "source": [
    "#Getting the series we'll use\n",
    "\n",
    "predicted_series = [geo0_predictions, \n",
    "                    geo1_predictions, \n",
    "                    geo2_predictions]\n",
    "\n",
    "def sort_series(x):   \n",
    "    sorted_series = x.sort_values(ascending = False)\n",
    "    return sorted_series[0:oil_wells_sel]\n",
    "\n",
    "geo0_pred = sort_series(geo0_predictions)*unit_price - cost_of_development\n",
    "geo1_pred = sort_series(geo1_predictions)*unit_price - cost_of_development\n",
    "geo2_pred = sort_series(geo2_predictions)*unit_price - cost_of_development"
   ]
  },
  {
   "cell_type": "code",
   "execution_count": 17,
   "id": "a750c680",
   "metadata": {},
   "outputs": [],
   "source": [
    "state = RandomState(12345)\n",
    "def bootstrapper(data, num_samples, alpha):\n",
    "    means = []\n",
    "    for i in range(num_samples):\n",
    "        bootstrapped_data = data.sample(frac=1, replace=True, random_state = state)\n",
    "        sample_mean = bootstrapped_data.mean()\n",
    "        means.append(sample_mean)\n",
    "    \n",
    "    upper = round(np.quantile(means, 1-alpha/2))\n",
    "    lower = round(np.quantile(means, alpha/2))\n",
    "    boot_mean = round(np.mean(means))\n",
    "    return upper, lower, boot_mean"
   ]
  },
  {
   "cell_type": "markdown",
   "id": "98c09f6d",
   "metadata": {},
   "source": [
    "Now that we have our bootstrapping function ready, we'll present the following for each dataset:\n",
    "\n",
    " - For a Confidence Interval of 95% (alpha 5%):\n",
    "      - The upper 97.5% quantile\n",
    "      - The mean\n",
    "      - The lower 2.5% quantile (97.5 - 2.5 = 95, our confidence interval)\n",
    "      - Then calculate loss risk, based on the 500k minimum revenue for a well to be profitable"
   ]
  },
  {
   "cell_type": "code",
   "execution_count": 18,
   "id": "d3e61df5",
   "metadata": {},
   "outputs": [
    {
     "name": "stdout",
     "output_type": "stream",
     "text": [
      "GEO0 Data, 95% Confidence Interval for Profits in region, per well:\n",
      "Upper Limit: 197856\n",
      "Average: 193819\n",
      "Lower Limit: 189883\n",
      "\n",
      "GEO1 Data, 95% Confidence Interval for Profits in region, per well:\n",
      "Upper Limit: 120792\n",
      "Average: 120601\n",
      "Lower Limit: 120409\n",
      "\n",
      "GEO2 Data, 95% Confidence Interval for Profits in region, per well:\n",
      "Upper Limit: 168842\n",
      "Average: 165664\n",
      "Lower Limit: 162585\n",
      "\n"
     ]
    }
   ],
   "source": [
    "u0, l0, m0 = bootstrapper(geo0_pred, 1000, 0.05)\n",
    "u1, l1, m1 = bootstrapper(geo1_pred, 1000, 0.05)\n",
    "u2, l2, m2 = bootstrapper(geo2_pred, 1000, 0.05)\n",
    "\n",
    "print('GEO0 Data, 95% Confidence Interval for Profits in region, per well:')\n",
    "print('Upper Limit:', u0)\n",
    "print('Average:', m0)\n",
    "print('Lower Limit:', l0)\n",
    "print()\n",
    "\n",
    "print('GEO1 Data, 95% Confidence Interval for Profits in region, per well:')\n",
    "print('Upper Limit:', u1)\n",
    "print('Average:', m1)\n",
    "print('Lower Limit:', l1)\n",
    "print()\n",
    "\n",
    "print('GEO2 Data, 95% Confidence Interval for Profits in region, per well:')\n",
    "print('Upper Limit:', u2)\n",
    "print('Average:', m2)\n",
    "print('Lower Limit:', l2)\n",
    "print()"
   ]
  },
  {
   "cell_type": "markdown",
   "id": "3d9b3d64",
   "metadata": {},
   "source": [
    "## 6 Final Region Selection and Key Takeaways\n",
    "\n",
    "The first point to make here is that none of the regions present a lower limit below USD 500k in the 95% confidence interval, so the risk of loss is below 2.5% in all three regions.\n",
    "\n",
    "**Region Selection:** The suggested region for investment is still the one from **Geo Data 0**. Here's why: even after the bootstrapping exercise, this is the region with the highest average revenue per oil well. On top of that, the lower limit of the confidence interval of this regions is still above the average from the other 2 regions."
   ]
  }
 ],
 "metadata": {
  "kernelspec": {
   "display_name": "Python 3 (ipykernel)",
   "language": "python",
   "name": "python3"
  },
  "language_info": {
   "codemirror_mode": {
    "name": "ipython",
    "version": 3
   },
   "file_extension": ".py",
   "mimetype": "text/x-python",
   "name": "python",
   "nbconvert_exporter": "python",
   "pygments_lexer": "ipython3",
   "version": "3.10.9"
  },
  "toc": {
   "base_numbering": 1,
   "nav_menu": {},
   "number_sections": true,
   "sideBar": true,
   "skip_h1_title": true,
   "title_cell": "Table of Contents",
   "title_sidebar": "Contents",
   "toc_cell": false,
   "toc_position": {},
   "toc_section_display": true,
   "toc_window_display": false
  }
 },
 "nbformat": 4,
 "nbformat_minor": 5
}
