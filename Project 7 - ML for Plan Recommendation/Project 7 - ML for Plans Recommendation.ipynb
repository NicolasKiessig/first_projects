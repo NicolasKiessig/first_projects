{
 "cells": [
  {
   "cell_type": "markdown",
   "metadata": {},
   "source": [
    "# Business Case & Project Objective\n",
    "We have worked a project for Megaline before. Now, they want to solve a different issue.\n",
    "\n",
    "**Context**\n",
    "\n",
    "The company is unsatisfied with the fact thta many of their customers are using old plans. They want a model that can analyse customer behaviour to recommend one of the new plans available, either Smart or Ultra. The dataset has been cleaned on previous projects, so the focus here is on the development of an accurate machine learning model to predict and recommend the best new plan for each customer.\n",
    "\n",
    "**Project Deliverable**\n",
    "\n",
    "The deliverable of this project is a working model that has an accuracy of 75% in recommending the ultra or smart plan to the customers."
   ]
  },
  {
   "cell_type": "markdown",
   "metadata": {},
   "source": [
    "## Importing Data, General Overview\n",
    "Let's begin by importing the dataset, and taking a general look at it. Then, we'll move on with building the model, which should consist of the following steps:\n",
    "1. Split the dataset into a train, validation and test part, in the respective proportions: 60%, 20%, 20%.\n",
    "2. Investigate and test quality of different models, altering hyperparameters. Briefly describe results.\n",
    "3. Verify model quality using the test split of the dataset.\n",
    "4. Additional task: take the real proof of the model."
   ]
  },
  {
   "cell_type": "code",
   "execution_count": 1,
   "metadata": {},
   "outputs": [],
   "source": [
    "#importing initial libraries\n",
    "import pandas as pd\n",
    "import matplotlib.pyplot as plt"
   ]
  },
  {
   "cell_type": "code",
   "execution_count": 2,
   "metadata": {},
   "outputs": [
    {
     "name": "stdout",
     "output_type": "stream",
     "text": [
      "<class 'pandas.core.frame.DataFrame'>\n",
      "RangeIndex: 3214 entries, 0 to 3213\n",
      "Data columns (total 5 columns):\n",
      " #   Column       Non-Null Count  Dtype  \n",
      "---  ------       --------------  -----  \n",
      " 0   calls        3214 non-null   float64\n",
      " 1   minutes      3214 non-null   float64\n",
      " 2   messages     3214 non-null   float64\n",
      " 3   mb_used      3214 non-null   float64\n",
      " 4   is_ultimate  3214 non-null   int64  \n",
      "dtypes: float64(4), int64(1)\n",
      "memory usage: 125.7 KB\n"
     ]
    },
    {
     "data": {
      "text/html": [
       "<div>\n",
       "<style scoped>\n",
       "    .dataframe tbody tr th:only-of-type {\n",
       "        vertical-align: middle;\n",
       "    }\n",
       "\n",
       "    .dataframe tbody tr th {\n",
       "        vertical-align: top;\n",
       "    }\n",
       "\n",
       "    .dataframe thead th {\n",
       "        text-align: right;\n",
       "    }\n",
       "</style>\n",
       "<table border=\"1\" class=\"dataframe\">\n",
       "  <thead>\n",
       "    <tr style=\"text-align: right;\">\n",
       "      <th></th>\n",
       "      <th>calls</th>\n",
       "      <th>minutes</th>\n",
       "      <th>messages</th>\n",
       "      <th>mb_used</th>\n",
       "      <th>is_ultimate</th>\n",
       "    </tr>\n",
       "  </thead>\n",
       "  <tbody>\n",
       "    <tr>\n",
       "      <th>0</th>\n",
       "      <td>40.0</td>\n",
       "      <td>311.90</td>\n",
       "      <td>83.0</td>\n",
       "      <td>19915.42</td>\n",
       "      <td>0</td>\n",
       "    </tr>\n",
       "    <tr>\n",
       "      <th>1</th>\n",
       "      <td>85.0</td>\n",
       "      <td>516.75</td>\n",
       "      <td>56.0</td>\n",
       "      <td>22696.96</td>\n",
       "      <td>0</td>\n",
       "    </tr>\n",
       "    <tr>\n",
       "      <th>2</th>\n",
       "      <td>77.0</td>\n",
       "      <td>467.66</td>\n",
       "      <td>86.0</td>\n",
       "      <td>21060.45</td>\n",
       "      <td>0</td>\n",
       "    </tr>\n",
       "    <tr>\n",
       "      <th>3</th>\n",
       "      <td>106.0</td>\n",
       "      <td>745.53</td>\n",
       "      <td>81.0</td>\n",
       "      <td>8437.39</td>\n",
       "      <td>1</td>\n",
       "    </tr>\n",
       "    <tr>\n",
       "      <th>4</th>\n",
       "      <td>66.0</td>\n",
       "      <td>418.74</td>\n",
       "      <td>1.0</td>\n",
       "      <td>14502.75</td>\n",
       "      <td>0</td>\n",
       "    </tr>\n",
       "  </tbody>\n",
       "</table>\n",
       "</div>"
      ],
      "text/plain": [
       "   calls  minutes  messages   mb_used  is_ultimate\n",
       "0   40.0   311.90      83.0  19915.42            0\n",
       "1   85.0   516.75      56.0  22696.96            0\n",
       "2   77.0   467.66      86.0  21060.45            0\n",
       "3  106.0   745.53      81.0   8437.39            1\n",
       "4   66.0   418.74       1.0  14502.75            0"
      ]
     },
     "metadata": {},
     "output_type": "display_data"
    },
    {
     "name": "stdout",
     "output_type": "stream",
     "text": [
      "calls          0\n",
      "minutes        0\n",
      "messages       0\n",
      "mb_used        0\n",
      "is_ultimate    0\n",
      "dtype: int64\n"
     ]
    }
   ],
   "source": [
    "#Importing dataset, taking a look\n",
    "df = pd.read_csv('/datasets/users_behavior_upd.csv')\n",
    "\n",
    "df.info()\n",
    "display(df.head())\n",
    "print(df.isna().sum())"
   ]
  },
  {
   "cell_type": "markdown",
   "metadata": {},
   "source": [
    "Nothing incorrect or invalid here. Let's take a quick look at descriptive stats."
   ]
  },
  {
   "cell_type": "code",
   "execution_count": 3,
   "metadata": {},
   "outputs": [
    {
     "data": {
      "text/html": [
       "<div>\n",
       "<style scoped>\n",
       "    .dataframe tbody tr th:only-of-type {\n",
       "        vertical-align: middle;\n",
       "    }\n",
       "\n",
       "    .dataframe tbody tr th {\n",
       "        vertical-align: top;\n",
       "    }\n",
       "\n",
       "    .dataframe thead th {\n",
       "        text-align: right;\n",
       "    }\n",
       "</style>\n",
       "<table border=\"1\" class=\"dataframe\">\n",
       "  <thead>\n",
       "    <tr style=\"text-align: right;\">\n",
       "      <th></th>\n",
       "      <th>calls</th>\n",
       "      <th>minutes</th>\n",
       "      <th>messages</th>\n",
       "      <th>mb_used</th>\n",
       "      <th>is_ultimate</th>\n",
       "    </tr>\n",
       "  </thead>\n",
       "  <tbody>\n",
       "    <tr>\n",
       "      <th>count</th>\n",
       "      <td>3214.000000</td>\n",
       "      <td>3214.000000</td>\n",
       "      <td>3214.000000</td>\n",
       "      <td>3214.000000</td>\n",
       "      <td>3214.000000</td>\n",
       "    </tr>\n",
       "    <tr>\n",
       "      <th>mean</th>\n",
       "      <td>63.038892</td>\n",
       "      <td>438.208787</td>\n",
       "      <td>38.281269</td>\n",
       "      <td>17207.673836</td>\n",
       "      <td>0.306472</td>\n",
       "    </tr>\n",
       "    <tr>\n",
       "      <th>std</th>\n",
       "      <td>33.236368</td>\n",
       "      <td>234.569872</td>\n",
       "      <td>36.148326</td>\n",
       "      <td>7570.968246</td>\n",
       "      <td>0.461100</td>\n",
       "    </tr>\n",
       "    <tr>\n",
       "      <th>min</th>\n",
       "      <td>0.000000</td>\n",
       "      <td>0.000000</td>\n",
       "      <td>0.000000</td>\n",
       "      <td>0.000000</td>\n",
       "      <td>0.000000</td>\n",
       "    </tr>\n",
       "    <tr>\n",
       "      <th>25%</th>\n",
       "      <td>40.000000</td>\n",
       "      <td>274.575000</td>\n",
       "      <td>9.000000</td>\n",
       "      <td>12491.902500</td>\n",
       "      <td>0.000000</td>\n",
       "    </tr>\n",
       "    <tr>\n",
       "      <th>50%</th>\n",
       "      <td>62.000000</td>\n",
       "      <td>430.600000</td>\n",
       "      <td>30.000000</td>\n",
       "      <td>16943.235000</td>\n",
       "      <td>0.000000</td>\n",
       "    </tr>\n",
       "    <tr>\n",
       "      <th>75%</th>\n",
       "      <td>82.000000</td>\n",
       "      <td>571.927500</td>\n",
       "      <td>57.000000</td>\n",
       "      <td>21424.700000</td>\n",
       "      <td>1.000000</td>\n",
       "    </tr>\n",
       "    <tr>\n",
       "      <th>max</th>\n",
       "      <td>244.000000</td>\n",
       "      <td>1632.060000</td>\n",
       "      <td>224.000000</td>\n",
       "      <td>49745.730000</td>\n",
       "      <td>1.000000</td>\n",
       "    </tr>\n",
       "  </tbody>\n",
       "</table>\n",
       "</div>"
      ],
      "text/plain": [
       "             calls      minutes     messages       mb_used  is_ultimate\n",
       "count  3214.000000  3214.000000  3214.000000   3214.000000  3214.000000\n",
       "mean     63.038892   438.208787    38.281269  17207.673836     0.306472\n",
       "std      33.236368   234.569872    36.148326   7570.968246     0.461100\n",
       "min       0.000000     0.000000     0.000000      0.000000     0.000000\n",
       "25%      40.000000   274.575000     9.000000  12491.902500     0.000000\n",
       "50%      62.000000   430.600000    30.000000  16943.235000     0.000000\n",
       "75%      82.000000   571.927500    57.000000  21424.700000     1.000000\n",
       "max     244.000000  1632.060000   224.000000  49745.730000     1.000000"
      ]
     },
     "metadata": {},
     "output_type": "display_data"
    },
    {
     "data": {
      "image/png": "[encoded data removed]",
      "text/plain": [
       "<Figure size 432x288 with 1 Axes>"
      ]
     },
     "metadata": {
      "needs_background": "light"
     },
     "output_type": "display_data"
    },
    {
     "data": {
      "image/png": "[encoded data removed]",
      "text/plain": [
       "<Figure size 432x288 with 1 Axes>"
      ]
     },
     "metadata": {
      "needs_background": "light"
     },
     "output_type": "display_data"
    },
    {
     "data": {
      "image/png": "[encoded data removed]",
      "text/plain": [
       "<Figure size 432x288 with 1 Axes>"
      ]
     },
     "metadata": {
      "needs_background": "light"
     },
     "output_type": "display_data"
    },
    {
     "data": {
      "image/png": "[encoded data removed]",
      "text/plain": [
       "<Figure size 432x288 with 1 Axes>"
      ]
     },
     "metadata": {
      "needs_background": "light"
     },
     "output_type": "display_data"
    }
   ],
   "source": [
    "#Descriptive stats\n",
    "display(df.describe())\n",
    "\n",
    "cols = list(df.loc[:,'calls':'mb_used'])\n",
    "\n",
    "for col in cols:\n",
    "    df.boxplot(column = col)\n",
    "    plt.show()\n"
   ]
  },
  {
   "cell_type": "markdown",
   "metadata": {},
   "source": [
    "**Findings**: All columns contain outliers, but this is customers' data, so it's entirely possible the data is correct and the customers really did produce the numbers seen. On top of that, medians and means are close all around, so the outliers are not distorting the data."
   ]
  },
  {
   "cell_type": "code",
   "execution_count": 4,
   "metadata": {
    "scrolled": false
   },
   "outputs": [
    {
     "data": {
      "image/png": "[encoded data removed]",
      "text/plain": [
       "<Figure size 432x288 with 1 Axes>"
      ]
     },
     "metadata": {
      "needs_background": "light"
     },
     "output_type": "display_data"
    },
    {
     "data": {
      "image/png": "[encoded data removed]",
      "text/plain": [
       "<Figure size 432x288 with 1 Axes>"
      ]
     },
     "metadata": {
      "needs_background": "light"
     },
     "output_type": "display_data"
    },
    {
     "data": {
      "image/png": "[encoded data removed]",
      "text/plain": [
       "<Figure size 432x288 with 1 Axes>"
      ]
     },
     "metadata": {
      "needs_background": "light"
     },
     "output_type": "display_data"
    },
    {
     "data": {
      "image/png": "[encoded data removed]",
      "text/plain": [
       "<Figure size 432x288 with 1 Axes>"
      ]
     },
     "metadata": {
      "needs_background": "light"
     },
     "output_type": "display_data"
    },
    {
     "name": "stdout",
     "output_type": "stream",
     "text": [
      "Consumer Distribution\n",
      " 0    0.693528\n",
      "1    0.306472\n",
      "Name: is_ultimate, dtype: float64\n"
     ]
    }
   ],
   "source": [
    "#Quick look at ultra and smart plans difference in consumer usage\n",
    "for col in cols:\n",
    "    df.groupby('is_ultimate')[col].mean().plot(kind = 'bar')\n",
    "    plt.title(col)\n",
    "    plt.xlabel('Smart(0) vs Ultimate(1)')\n",
    "    plt.show()\n",
    "print('Consumer Distribution\\n',df['is_ultimate'].value_counts()/len(df))"
   ]
  },
  {
   "cell_type": "markdown",
   "metadata": {},
   "source": [
    "**Insights**: What we see here is that Ultimate users have higher means than Smart users in all offered services - they make more calls, use more minutes, send more messages and use more internet than Smart plan users. But Ultimate users are also the minority, with 70% of users having the Smart plan, and 30% the Ultimate plan.\n",
    "\n",
    "Alright, now that we have briefly analysed our data, let's move on to building the machine learning model to recommend the plans for users."
   ]
  },
  {
   "cell_type": "markdown",
   "metadata": {},
   "source": [
    "## Model Creation"
   ]
  },
  {
   "cell_type": "code",
   "execution_count": 5,
   "metadata": {},
   "outputs": [
    {
     "name": "stdout",
     "output_type": "stream",
     "text": [
      "1928 643 643\n"
     ]
    }
   ],
   "source": [
    "#Splitting the dataset between train, validation, testing\n",
    "from sklearn.model_selection import train_test_split\n",
    "\n",
    "#defining features and target\n",
    "features = df.loc[:,'calls':'mb_used']\n",
    "targets = df['is_ultimate']\n",
    "\n",
    "#splitting between train (60%) and test(40%) which we will further split into validation and testing\n",
    "features_train, features_test, target_train, target_test = train_test_split(features, targets, test_size=0.4, random_state=1)\n",
    "\n",
    "#splitting the test between test and validation\n",
    "features_test, features_valid, target_test, target_valid = train_test_split(features_test, target_test, test_size=0.5, random_state=1)\n",
    "\n",
    "#checking if splits worked correctly\n",
    "print(len(features_train), len(features_test), len(features_valid))"
   ]
  },
  {
   "cell_type": "markdown",
   "metadata": {},
   "source": [
    "Great, now we have our dataset split into 3 parts: training, validation, testing. Let's move on to models.\n",
    "\n",
    "First, we have to choose a model. Then, we fine-tune its hyperparameters. The options we have for this classification model are the following:\n",
    "\n",
    "- Decision Tree (low accuracy, high speed)\n",
    "- Random Forest (high accuracy, low speed)\n",
    "- Logistic Regression (medium accuracy, high speed)\n",
    "\n",
    "Given the options, we would never pick the Decision Tree itself, since it is as fast as the logistic regression but offers lower accuracy. This leaves us with Random Forest and Logistic Regression models to choose. And since we are not handling to much data, we can give up some speed in exchange for more accuracy, which is what we are aiming for here - This leaves us with the **Random Forest** model."
   ]
  },
  {
   "cell_type": "markdown",
   "metadata": {},
   "source": [
    "### Random Forest Classifier Model (Chosen)"
   ]
  },
  {
   "cell_type": "code",
   "execution_count": 6,
   "metadata": {
    "scrolled": true
   },
   "outputs": [
    {
     "name": "stdout",
     "output_type": "stream",
     "text": [
      "Highest Accuracy: 0.8055987558320373 n_estimators best hyperparameter: 22\n"
     ]
    }
   ],
   "source": [
    "#modeling\n",
    "from sklearn.ensemble import RandomForestClassifier\n",
    "from sklearn.metrics import accuracy_score\n",
    "\n",
    "\n",
    "best_score = 0\n",
    "best_est = 0\n",
    "\n",
    "#checking best hyperparameters\n",
    "for est in range(1,51):\n",
    "    model = RandomForestClassifier(random_state=1, n_estimators= est)\n",
    "    model.fit(features_train, target_train)\n",
    "    accuracy = model.score(features_valid, target_valid)\n",
    "    if accuracy > best_score:\n",
    "        best_score = accuracy\n",
    "        best_est = est\n",
    "\n",
    "\n",
    "print('Highest Accuracy:', best_score, 'n_estimators best hyperparameter:', best_est)"
   ]
  },
  {
   "cell_type": "markdown",
   "metadata": {},
   "source": [
    "**Analysis**\n",
    "\n",
    " - We have seen that the Random Forest Classifier model has given us an 80% accuracy on the validation dataset, with the n_estimators best hyperparameter at 22, out of the 50 we tried. \n",
    " \n",
    " \n",
    " - The final step is to test the model on the test dataset, and see if we get >75% accuracy results. If so, then we have our recommendation model to put into production for the business to recommend the correct plans for each customer based on their current plan usage."
   ]
  },
  {
   "cell_type": "markdown",
   "metadata": {},
   "source": [
    "### Model Test"
   ]
  },
  {
   "cell_type": "code",
   "execution_count": 7,
   "metadata": {},
   "outputs": [
    {
     "name": "stdout",
     "output_type": "stream",
     "text": [
      "Model Test Accuracy: 0.7838258164852255\n",
      "Model Passed accuracy threshold of 75%\n"
     ]
    }
   ],
   "source": [
    "final_model = RandomForestClassifier(random_state=1, n_estimators= best_est)\n",
    "final_model.fit(features_train, target_train)\n",
    "\n",
    "final_model_score = final_model.score(features_test, target_test)\n",
    "\n",
    "print('Model Test Accuracy:', final_model_score)\n",
    "if final_model_score > 0.75:\n",
    "    print('Model Passed accuracy threshold of 75%')\n",
    "else:\n",
    "    print('Model Failed to pass threshold')"
   ]
  },
  {
   "cell_type": "markdown",
   "metadata": {},
   "source": [
    "### Model Results & other models"
   ]
  },
  {
   "cell_type": "markdown",
   "metadata": {},
   "source": [
    "Our final model had a *78% accuracy* with the test dataset, above 50%, so it performed better than chance. Before closing the project, we'll take a glance and run the tests of the other 2 types of models, just to check how they compare."
   ]
  },
  {
   "cell_type": "code",
   "execution_count": 8,
   "metadata": {},
   "outputs": [
    {
     "name": "stdout",
     "output_type": "stream",
     "text": [
      "Model: Logistic Regression\n",
      "Logistic Regression accuracy: 0.7558320373250389\n",
      "Accuracy on test dataset: 0.7200622083981337\n"
     ]
    }
   ],
   "source": [
    "from sklearn.linear_model import LogisticRegression\n",
    "\n",
    "model2 = LogisticRegression(random_state=1)\n",
    "model2.fit(features_train, target_train)\n",
    "acc = model2.score(features_valid, target_valid)\n",
    "\n",
    "print('Model: Logistic Regression')   \n",
    "print('Logistic Regression accuracy:', acc)\n",
    "print('Accuracy on test dataset:', model2.score(features_test, target_test))"
   ]
  },
  {
   "cell_type": "code",
   "execution_count": 9,
   "metadata": {},
   "outputs": [
    {
     "name": "stdout",
     "output_type": "stream",
     "text": [
      "Model: Decision Tree Classifier\n",
      "Highest Accuracy: 0.7931570762052877 max_depth best hyperparameter: 6\n",
      "Accuracy on test dataset: 0.7713841368584758\n"
     ]
    }
   ],
   "source": [
    "from sklearn.tree import DecisionTreeClassifier\n",
    "\n",
    "best_acc1 = 0\n",
    "best_depth = 0\n",
    "\n",
    "for depth in range(1,11):\n",
    "    model3 = DecisionTreeClassifier(random_state=1, max_depth = depth)\n",
    "    model3.fit(features_train, target_train)\n",
    "    acc1 = model3.score(features_valid, target_valid)\n",
    "    if acc1 > best_acc1:\n",
    "        best_acc1 = acc1\n",
    "        best_depth = depth\n",
    "\n",
    "final_model3 = DecisionTreeClassifier(random_state=1, max_depth = best_depth)\n",
    "final_model3.fit(features_train, target_train)\n",
    "\n",
    "print('Model: Decision Tree Classifier')   \n",
    "print('Highest Accuracy:', best_acc1, 'max_depth best hyperparameter:', best_depth)\n",
    "print('Accuracy on test dataset:', final_model3.score(features_test, target_test))"
   ]
  },
  {
   "cell_type": "markdown",
   "metadata": {},
   "source": [
    "## Final Evaluation"
   ]
  },
  {
   "cell_type": "markdown",
   "metadata": {},
   "source": [
    "**This concludes the project. Below are the key takeaways:**\n",
    "1. We delivered a Model (`final_model`) that has over 75% accuracy in recommending the correct plan for the company's customers, using the RandomForestClassifier model to do so. We fine-tuned it with only one hyperparameter, the n_estimators (set at 22 for best accuracy), and this was done using the validation dataset. Finally, we tested the fine-tuned model on the test dataset for a final evaluation, which returned to us a satisfactory result (>75%).\n",
    "\n",
    "\n",
    "2. LogisticRegression model had a 72% accuracy on the test set, no hyperparameters fine-tuned.\n",
    "\n",
    "\n",
    "3. DecisionTreeClassifier had 77% accuracy on the test set, with one hyperparameter fine-tuned -> max_depth set at 6. Given the small difference between the RandomForest model and the DecisionTree model, one could argue the use of the DecisionTree if speed was an important component here, as results were almost the same, but DecisionTree got there much faster than the RandomForest."
   ]
  }
 ],
 "metadata": {
  "kernelspec": {
   "display_name": "Python 3 (ipykernel)",
   "language": "python",
   "name": "python3"
  },
  "language_info": {
   "codemirror_mode": {
    "name": "ipython",
    "version": 3
   },
   "file_extension": ".py",
   "mimetype": "text/x-python",
   "name": "python",
   "nbconvert_exporter": "python",
   "pygments_lexer": "ipython3",
   "version": "3.10.9"
  },
  "toc": {
   "base_numbering": 1,
   "nav_menu": {},
   "number_sections": true,
   "sideBar": true,
   "skip_h1_title": true,
   "title_cell": "Table of Contents",
   "title_sidebar": "Contents",
   "toc_cell": false,
   "toc_position": {},
   "toc_section_display": true,
   "toc_window_display": false
  }
 },
 "nbformat": 4,
 "nbformat_minor": 2
}
